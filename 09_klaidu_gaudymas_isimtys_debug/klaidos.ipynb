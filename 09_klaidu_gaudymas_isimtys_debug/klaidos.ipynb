{
 "cells": [
  {
   "cell_type": "code",
   "execution_count": 8,
   "metadata": {},
   "outputs": [
    {
     "name": "stdout",
     "output_type": "stream",
     "text": [
      "klaida\n"
     ]
    }
   ],
   "source": [
    "try:\n",
    "    rez = 10 / '5'\n",
    "except Exception:\n",
    "    print('klaida')\n",
    "else:\n",
    "    print(rez)"
   ]
  },
  {
   "cell_type": "code",
   "execution_count": 10,
   "metadata": {},
   "outputs": [
    {
     "name": "stdout",
     "output_type": "stream",
     "text": [
      "5.0\n",
      "baigiam dalinti\n"
     ]
    }
   ],
   "source": [
    "try:\n",
    "    rez = 10 / 2\n",
    "except ZeroDivisionError:\n",
    "    print('klaida negalim dalinti is nulio')\n",
    "else:\n",
    "    print(rez)\n",
    "finally:\n",
    "    print('baigiam dalinti')"
   ]
  },
  {
   "cell_type": "code",
   "execution_count": 21,
   "metadata": {},
   "outputs": [
    {
     "name": "stdout",
     "output_type": "stream",
     "text": [
      "Rezultatas: 1.5\n"
     ]
    }
   ],
   "source": [
    "try: \n",
    "    skaicius1 = int(input('Iveskite skaiciu:'))\n",
    "    skaicius2 = int(input('Iveskite antra skaiciu:'))\n",
    "    rezultatas = skaicius1 / skaicius2\n",
    "    print('Rezultatas:', rezultatas)\n",
    "except ValueError:\n",
    "    print('Ivestas neteisingas skaicius')\n",
    "except ZeroDivisionError:\n",
    "    print('Negalime dalinti is nulio')\n",
    "\n"
   ]
  },
  {
   "cell_type": "code",
   "execution_count": 26,
   "metadata": {},
   "outputs": [
    {
     "name": "stdout",
     "output_type": "stream",
     "text": [
      "Klaida: could not convert string to float: 'r'\n",
      "Ačiū, jūs įvedėte: 9.0\n"
     ]
    }
   ],
   "source": [
    "while True:\n",
    "    try:\n",
    "        skaicius = float(input(\"Įveskite teigiamą skaičių: \"))\n",
    "        if skaicius <= 0:\n",
    "            raise ValueError(\"Įvestas skaičius yra neigiamas\")\n",
    "        else:\n",
    "            print(\"Ačiū, jūs įvedėte:\", skaicius)\n",
    "            break\n",
    "    except ValueError as error:\n",
    "        print(\"Klaida:\", error)"
   ]
  }
 ],
 "metadata": {
  "kernelspec": {
   "display_name": "venv",
   "language": "python",
   "name": "python3"
  },
  "language_info": {
   "codemirror_mode": {
    "name": "ipython",
    "version": 3
   },
   "file_extension": ".py",
   "mimetype": "text/x-python",
   "name": "python",
   "nbconvert_exporter": "python",
   "pygments_lexer": "ipython3",
   "version": "3.11.7"
  }
 },
 "nbformat": 4,
 "nbformat_minor": 2
}
