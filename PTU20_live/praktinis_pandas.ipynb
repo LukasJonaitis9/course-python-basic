{
 "cells": [
  {
   "cell_type": "code",
   "execution_count": 2,
   "metadata": {},
   "outputs": [
    {
     "name": "stderr",
     "output_type": "stream",
     "text": [
      "C:\\Users\\HP\\AppData\\Local\\Temp\\ipykernel_22068\\2162656668.py:1: DeprecationWarning: \n",
      "Pyarrow will become a required dependency of pandas in the next major release of pandas (pandas 3.0),\n",
      "(to allow more performant data types, such as the Arrow string type, and better interoperability with other libraries)\n",
      "but was not found to be installed on your system.\n",
      "If this would cause problems for you,\n",
      "please provide us feedback at https://github.com/pandas-dev/pandas/issues/54466\n",
      "        \n",
      "  import pandas as pd\n"
     ]
    }
   ],
   "source": [
    "import pandas as pd\n",
    "import numpy as np"
   ]
  },
  {
   "cell_type": "code",
   "execution_count": 3,
   "metadata": {},
   "outputs": [
    {
     "name": "stdout",
     "output_type": "stream",
     "text": [
      "('vardas', 'pavardė', 'amžius') ('Geras', 'Zmogelis', 33)\n"
     ]
    }
   ],
   "source": [
    "labels = ('vardas', 'pavardė', 'amžius')\n",
    "zmogus = ('Geras', 'Zmogelis', 33)\n",
    "print(labels, zmogus)"
   ]
  },
  {
   "cell_type": "code",
   "execution_count": 4,
   "metadata": {},
   "outputs": [
    {
     "data": {
      "text/plain": [
       "0       Geras\n",
       "1    Zmogelis\n",
       "2          33\n",
       "dtype: object"
      ]
     },
     "execution_count": 4,
     "metadata": {},
     "output_type": "execute_result"
    }
   ],
   "source": [
    "pd.Series(data=zmogus)"
   ]
  },
  {
   "cell_type": "code",
   "execution_count": 5,
   "metadata": {},
   "outputs": [
    {
     "data": {
      "text/plain": [
       "vardas        Geras\n",
       "pavardė    Zmogelis\n",
       "amžius           33\n",
       "dtype: object"
      ]
     },
     "execution_count": 5,
     "metadata": {},
     "output_type": "execute_result"
    }
   ],
   "source": [
    "pd.Series(data=zmogus, index=labels)"
   ]
  },
  {
   "cell_type": "code",
   "execution_count": 6,
   "metadata": {},
   "outputs": [
    {
     "data": {
      "text/plain": [
       "{'vardas': 'Smagus', 'pavarde': 'Giedriukas', 'amzius': 36}"
      ]
     },
     "execution_count": 6,
     "metadata": {},
     "output_type": "execute_result"
    }
   ],
   "source": [
    "zmogus_dict = {\n",
    "    'vardas': 'Smagus',\n",
    "    'pavarde': 'Giedriukas',\n",
    "    'amzius': 36\n",
    "}\n",
    "zmogus_dict"
   ]
  },
  {
   "cell_type": "code",
   "execution_count": 7,
   "metadata": {},
   "outputs": [
    {
     "data": {
      "text/plain": [
       "vardas         Smagus\n",
       "pavarde    Giedriukas\n",
       "amzius             36\n",
       "dtype: object"
      ]
     },
     "execution_count": 7,
     "metadata": {},
     "output_type": "execute_result"
    }
   ],
   "source": [
    "zmogus_pd = pd.Series(zmogus_dict)\n",
    "zmogus_pd"
   ]
  },
  {
   "cell_type": "code",
   "execution_count": 8,
   "metadata": {},
   "outputs": [
    {
     "data": {
      "text/plain": [
       "vardas        Geras\n",
       "pavardė    Zmogelis\n",
       "amžius           33\n",
       "dtype: object"
      ]
     },
     "execution_count": 8,
     "metadata": {},
     "output_type": "execute_result"
    }
   ],
   "source": [
    "pd.Series(zmogus, labels)"
   ]
  },
  {
   "cell_type": "code",
   "execution_count": 9,
   "metadata": {},
   "outputs": [
    {
     "data": {
      "text/plain": [
       "36"
      ]
     },
     "execution_count": 9,
     "metadata": {},
     "output_type": "execute_result"
    }
   ],
   "source": [
    "zmogus_pd['amzius']"
   ]
  },
  {
   "cell_type": "code",
   "execution_count": 10,
   "metadata": {},
   "outputs": [
    {
     "data": {
      "text/plain": [
       "Vilnius     500\n",
       "Kaunas      400\n",
       "Klaipeda    300\n",
       "Siauliai    200\n",
       "dtype: int64"
      ]
     },
     "execution_count": 10,
     "metadata": {},
     "output_type": "execute_result"
    }
   ],
   "source": [
    "miestai = pd.Series((500, 400, 300, 200), ('Vilnius', 'Kaunas', 'Klaipeda', 'Siauliai'))\n",
    "miestai"
   ]
  },
  {
   "cell_type": "code",
   "execution_count": 11,
   "metadata": {},
   "outputs": [
    {
     "data": {
      "text/plain": [
       "Vilnius     1.5\n",
       "Kaunas      1.3\n",
       "Klaipeda    0.9\n",
       "Siauliai    0.7\n",
       "dtype: float64"
      ]
     },
     "execution_count": 11,
     "metadata": {},
     "output_type": "execute_result"
    }
   ],
   "source": [
    "augimas = pd.Series((1.5, 1.3, 0.9, 0.7), ('Vilnius', 'Kaunas', 'Klaipeda', 'Siauliai'))\n",
    "augimas"
   ]
  },
  {
   "cell_type": "code",
   "execution_count": 12,
   "metadata": {},
   "outputs": [
    {
     "data": {
      "text/plain": [
       "Vilnius     750.0\n",
       "Kaunas      520.0\n",
       "Klaipeda    270.0\n",
       "Siauliai    140.0\n",
       "dtype: float64"
      ]
     },
     "execution_count": 12,
     "metadata": {},
     "output_type": "execute_result"
    }
   ],
   "source": [
    "miestai * augimas"
   ]
  },
  {
   "cell_type": "code",
   "execution_count": 13,
   "metadata": {},
   "outputs": [
    {
     "data": {
      "text/plain": [
       "array([[71, 14, 47, 31, 60, 85, 50],\n",
       "       [51, 61, 51, 23, 22, 43, 14],\n",
       "       [38, 77, 14, 42, 91, 74, 39],\n",
       "       [86, 48, 82, 89, 15, 58, 40],\n",
       "       [10, 17, 80, 41, 50, 94, 72],\n",
       "       [46, 24, 75, 80, 49, 25, 70],\n",
       "       [85, 52, 83, 67, 16, 27, 91]])"
      ]
     },
     "execution_count": 13,
     "metadata": {},
     "output_type": "execute_result"
    }
   ],
   "source": [
    "betko7x7 = np.random.randint(10, 100, (7, 7))\n",
    "betko7x7"
   ]
  },
  {
   "cell_type": "code",
   "execution_count": 14,
   "metadata": {},
   "outputs": [
    {
     "data": {
      "text/html": [
       "<div>\n",
       "<style scoped>\n",
       "    .dataframe tbody tr th:only-of-type {\n",
       "        vertical-align: middle;\n",
       "    }\n",
       "\n",
       "    .dataframe tbody tr th {\n",
       "        vertical-align: top;\n",
       "    }\n",
       "\n",
       "    .dataframe thead th {\n",
       "        text-align: right;\n",
       "    }\n",
       "</style>\n",
       "<table border=\"1\" class=\"dataframe\">\n",
       "  <thead>\n",
       "    <tr style=\"text-align: right;\">\n",
       "      <th></th>\n",
       "      <th>Vilnius</th>\n",
       "      <th>Kaunas</th>\n",
       "      <th>Klaipeda</th>\n",
       "      <th>Siauliai</th>\n",
       "      <th>Panevezys</th>\n",
       "      <th>Alytus</th>\n",
       "      <th>Druskininkai</th>\n",
       "    </tr>\n",
       "  </thead>\n",
       "  <tbody>\n",
       "    <tr>\n",
       "      <th>2000</th>\n",
       "      <td>71</td>\n",
       "      <td>14</td>\n",
       "      <td>47</td>\n",
       "      <td>31</td>\n",
       "      <td>60</td>\n",
       "      <td>85</td>\n",
       "      <td>50</td>\n",
       "    </tr>\n",
       "    <tr>\n",
       "      <th>2004</th>\n",
       "      <td>51</td>\n",
       "      <td>61</td>\n",
       "      <td>51</td>\n",
       "      <td>23</td>\n",
       "      <td>22</td>\n",
       "      <td>43</td>\n",
       "      <td>14</td>\n",
       "    </tr>\n",
       "    <tr>\n",
       "      <th>2008</th>\n",
       "      <td>38</td>\n",
       "      <td>77</td>\n",
       "      <td>14</td>\n",
       "      <td>42</td>\n",
       "      <td>91</td>\n",
       "      <td>74</td>\n",
       "      <td>39</td>\n",
       "    </tr>\n",
       "    <tr>\n",
       "      <th>2012</th>\n",
       "      <td>86</td>\n",
       "      <td>48</td>\n",
       "      <td>82</td>\n",
       "      <td>89</td>\n",
       "      <td>15</td>\n",
       "      <td>58</td>\n",
       "      <td>40</td>\n",
       "    </tr>\n",
       "    <tr>\n",
       "      <th>2016</th>\n",
       "      <td>10</td>\n",
       "      <td>17</td>\n",
       "      <td>80</td>\n",
       "      <td>41</td>\n",
       "      <td>50</td>\n",
       "      <td>94</td>\n",
       "      <td>72</td>\n",
       "    </tr>\n",
       "    <tr>\n",
       "      <th>2020</th>\n",
       "      <td>46</td>\n",
       "      <td>24</td>\n",
       "      <td>75</td>\n",
       "      <td>80</td>\n",
       "      <td>49</td>\n",
       "      <td>25</td>\n",
       "      <td>70</td>\n",
       "    </tr>\n",
       "    <tr>\n",
       "      <th>2024</th>\n",
       "      <td>85</td>\n",
       "      <td>52</td>\n",
       "      <td>83</td>\n",
       "      <td>67</td>\n",
       "      <td>16</td>\n",
       "      <td>27</td>\n",
       "      <td>91</td>\n",
       "    </tr>\n",
       "  </tbody>\n",
       "</table>\n",
       "</div>"
      ],
      "text/plain": [
       "      Vilnius  Kaunas  Klaipeda  Siauliai  Panevezys  Alytus  Druskininkai\n",
       "2000       71      14        47        31         60      85            50\n",
       "2004       51      61        51        23         22      43            14\n",
       "2008       38      77        14        42         91      74            39\n",
       "2012       86      48        82        89         15      58            40\n",
       "2016       10      17        80        41         50      94            72\n",
       "2020       46      24        75        80         49      25            70\n",
       "2024       85      52        83        67         16      27            91"
      ]
     },
     "execution_count": 14,
     "metadata": {},
     "output_type": "execute_result"
    }
   ],
   "source": [
    "miestu_skaiciai = pd.DataFrame(\n",
    "    betko7x7,\n",
    "    [2000, 2004, 2008, 2012, 2016, 2020, 2024],\n",
    "    ['Vilnius', 'Kaunas', 'Klaipeda', 'Siauliai', 'Panevezys', 'Alytus', 'Druskininkai']\n",
    ")\n",
    "miestu_skaiciai"
   ]
  },
  {
   "cell_type": "code",
   "execution_count": 15,
   "metadata": {},
   "outputs": [
    {
     "data": {
      "text/plain": [
       "2000    47\n",
       "2004    51\n",
       "2008    14\n",
       "2012    82\n",
       "2016    80\n",
       "2020    75\n",
       "2024    83\n",
       "Name: Klaipeda, dtype: int32"
      ]
     },
     "execution_count": 15,
     "metadata": {},
     "output_type": "execute_result"
    }
   ],
   "source": [
    "miestu_skaiciai['Klaipeda']"
   ]
  },
  {
   "cell_type": "code",
   "execution_count": 16,
   "metadata": {},
   "outputs": [
    {
     "name": "stdout",
     "output_type": "stream",
     "text": [
      "<class 'pandas.core.series.Series'>\n",
      "<class 'pandas.core.frame.DataFrame'>\n"
     ]
    }
   ],
   "source": [
    "print(type(miestu_skaiciai['Klaipeda']))\n",
    "print(type(miestu_skaiciai))"
   ]
  },
  {
   "cell_type": "code",
   "execution_count": 17,
   "metadata": {},
   "outputs": [
    {
     "data": {
      "text/html": [
       "<div>\n",
       "<style scoped>\n",
       "    .dataframe tbody tr th:only-of-type {\n",
       "        vertical-align: middle;\n",
       "    }\n",
       "\n",
       "    .dataframe tbody tr th {\n",
       "        vertical-align: top;\n",
       "    }\n",
       "\n",
       "    .dataframe thead th {\n",
       "        text-align: right;\n",
       "    }\n",
       "</style>\n",
       "<table border=\"1\" class=\"dataframe\">\n",
       "  <thead>\n",
       "    <tr style=\"text-align: right;\">\n",
       "      <th></th>\n",
       "      <th>Vilnius</th>\n",
       "      <th>Alytus</th>\n",
       "      <th>Druskininkai</th>\n",
       "    </tr>\n",
       "  </thead>\n",
       "  <tbody>\n",
       "    <tr>\n",
       "      <th>2000</th>\n",
       "      <td>71</td>\n",
       "      <td>85</td>\n",
       "      <td>50</td>\n",
       "    </tr>\n",
       "    <tr>\n",
       "      <th>2004</th>\n",
       "      <td>51</td>\n",
       "      <td>43</td>\n",
       "      <td>14</td>\n",
       "    </tr>\n",
       "    <tr>\n",
       "      <th>2008</th>\n",
       "      <td>38</td>\n",
       "      <td>74</td>\n",
       "      <td>39</td>\n",
       "    </tr>\n",
       "    <tr>\n",
       "      <th>2012</th>\n",
       "      <td>86</td>\n",
       "      <td>58</td>\n",
       "      <td>40</td>\n",
       "    </tr>\n",
       "    <tr>\n",
       "      <th>2016</th>\n",
       "      <td>10</td>\n",
       "      <td>94</td>\n",
       "      <td>72</td>\n",
       "    </tr>\n",
       "    <tr>\n",
       "      <th>2020</th>\n",
       "      <td>46</td>\n",
       "      <td>25</td>\n",
       "      <td>70</td>\n",
       "    </tr>\n",
       "    <tr>\n",
       "      <th>2024</th>\n",
       "      <td>85</td>\n",
       "      <td>27</td>\n",
       "      <td>91</td>\n",
       "    </tr>\n",
       "  </tbody>\n",
       "</table>\n",
       "</div>"
      ],
      "text/plain": [
       "      Vilnius  Alytus  Druskininkai\n",
       "2000       71      85            50\n",
       "2004       51      43            14\n",
       "2008       38      74            39\n",
       "2012       86      58            40\n",
       "2016       10      94            72\n",
       "2020       46      25            70\n",
       "2024       85      27            91"
      ]
     },
     "execution_count": 17,
     "metadata": {},
     "output_type": "execute_result"
    }
   ],
   "source": [
    "miestu_skaiciai[['Vilnius', 'Alytus', 'Druskininkai']]"
   ]
  },
  {
   "cell_type": "code",
   "execution_count": 18,
   "metadata": {},
   "outputs": [
    {
     "name": "stderr",
     "output_type": "stream",
     "text": [
      "C:\\Users\\HP\\AppData\\Local\\Temp\\ipykernel_22068\\2762690240.py:1: FutureWarning: ChainedAssignmentError: behaviour will change in pandas 3.0!\n",
      "You are setting values through chained assignment. Currently this works in certain cases, but when using Copy-on-Write (which will become the default behaviour in pandas 3.0) this will never work to update the original DataFrame or Series, because the intermediate object on which we are setting values will behave as a copy.\n",
      "A typical example is when you are setting values in a column of a DataFrame, like:\n",
      "\n",
      "df[\"col\"][row_indexer] = value\n",
      "\n",
      "Use `df.loc[row_indexer, \"col\"] = values` instead, to perform the assignment in a single step and ensure this keeps updating the original `df`.\n",
      "\n",
      "See the caveats in the documentation: https://pandas.pydata.org/pandas-docs/stable/user_guide/indexing.html#returning-a-view-versus-a-copy\n",
      "\n",
      "  miestu_skaiciai['Vilnius'][2000] = 99\n"
     ]
    },
    {
     "data": {
      "text/plain": [
       "99"
      ]
     },
     "execution_count": 18,
     "metadata": {},
     "output_type": "execute_result"
    }
   ],
   "source": [
    "miestu_skaiciai['Vilnius'][2000] = 99\n",
    "miestu_skaiciai['Vilnius'][2000]"
   ]
  },
  {
   "cell_type": "code",
   "execution_count": 19,
   "metadata": {},
   "outputs": [
    {
     "data": {
      "text/plain": [
       "Vilnius         86\n",
       "Kaunas          48\n",
       "Klaipeda        82\n",
       "Siauliai        89\n",
       "Panevezys       15\n",
       "Alytus          58\n",
       "Druskininkai    40\n",
       "Name: 2012, dtype: int32"
      ]
     },
     "execution_count": 19,
     "metadata": {},
     "output_type": "execute_result"
    }
   ],
   "source": [
    "miestu_skaiciai.loc[2012]"
   ]
  },
  {
   "cell_type": "code",
   "execution_count": 20,
   "metadata": {},
   "outputs": [
    {
     "data": {
      "text/plain": [
       "2000    32\n",
       "2004    10\n",
       "2008    87\n",
       "2012    26\n",
       "2016    17\n",
       "2020    49\n",
       "2024    98\n",
       "dtype: int32"
      ]
     },
     "execution_count": 20,
     "metadata": {},
     "output_type": "execute_result"
    }
   ],
   "source": [
    "kazluruda = pd.Series(np.random.randint(10, 99, 7), np.arange(2000, 2025, 4))\n",
    "kazluruda"
   ]
  },
  {
   "cell_type": "code",
   "execution_count": 21,
   "metadata": {},
   "outputs": [
    {
     "data": {
      "text/html": [
       "<div>\n",
       "<style scoped>\n",
       "    .dataframe tbody tr th:only-of-type {\n",
       "        vertical-align: middle;\n",
       "    }\n",
       "\n",
       "    .dataframe tbody tr th {\n",
       "        vertical-align: top;\n",
       "    }\n",
       "\n",
       "    .dataframe thead th {\n",
       "        text-align: right;\n",
       "    }\n",
       "</style>\n",
       "<table border=\"1\" class=\"dataframe\">\n",
       "  <thead>\n",
       "    <tr style=\"text-align: right;\">\n",
       "      <th></th>\n",
       "      <th>Vilnius</th>\n",
       "      <th>Kaunas</th>\n",
       "      <th>Klaipeda</th>\n",
       "      <th>Siauliai</th>\n",
       "      <th>Panevezys</th>\n",
       "      <th>Alytus</th>\n",
       "      <th>Druskininkai</th>\n",
       "      <th>Kazlu Ruda</th>\n",
       "    </tr>\n",
       "  </thead>\n",
       "  <tbody>\n",
       "    <tr>\n",
       "      <th>2000</th>\n",
       "      <td>99</td>\n",
       "      <td>14</td>\n",
       "      <td>47</td>\n",
       "      <td>31</td>\n",
       "      <td>60</td>\n",
       "      <td>85</td>\n",
       "      <td>50</td>\n",
       "      <td>32</td>\n",
       "    </tr>\n",
       "    <tr>\n",
       "      <th>2004</th>\n",
       "      <td>51</td>\n",
       "      <td>61</td>\n",
       "      <td>51</td>\n",
       "      <td>23</td>\n",
       "      <td>22</td>\n",
       "      <td>43</td>\n",
       "      <td>14</td>\n",
       "      <td>10</td>\n",
       "    </tr>\n",
       "    <tr>\n",
       "      <th>2008</th>\n",
       "      <td>38</td>\n",
       "      <td>77</td>\n",
       "      <td>14</td>\n",
       "      <td>42</td>\n",
       "      <td>91</td>\n",
       "      <td>74</td>\n",
       "      <td>39</td>\n",
       "      <td>87</td>\n",
       "    </tr>\n",
       "    <tr>\n",
       "      <th>2012</th>\n",
       "      <td>86</td>\n",
       "      <td>48</td>\n",
       "      <td>82</td>\n",
       "      <td>89</td>\n",
       "      <td>15</td>\n",
       "      <td>58</td>\n",
       "      <td>40</td>\n",
       "      <td>26</td>\n",
       "    </tr>\n",
       "    <tr>\n",
       "      <th>2016</th>\n",
       "      <td>10</td>\n",
       "      <td>17</td>\n",
       "      <td>80</td>\n",
       "      <td>41</td>\n",
       "      <td>50</td>\n",
       "      <td>94</td>\n",
       "      <td>72</td>\n",
       "      <td>17</td>\n",
       "    </tr>\n",
       "    <tr>\n",
       "      <th>2020</th>\n",
       "      <td>46</td>\n",
       "      <td>24</td>\n",
       "      <td>75</td>\n",
       "      <td>80</td>\n",
       "      <td>49</td>\n",
       "      <td>25</td>\n",
       "      <td>70</td>\n",
       "      <td>49</td>\n",
       "    </tr>\n",
       "    <tr>\n",
       "      <th>2024</th>\n",
       "      <td>85</td>\n",
       "      <td>52</td>\n",
       "      <td>83</td>\n",
       "      <td>67</td>\n",
       "      <td>16</td>\n",
       "      <td>27</td>\n",
       "      <td>91</td>\n",
       "      <td>98</td>\n",
       "    </tr>\n",
       "  </tbody>\n",
       "</table>\n",
       "</div>"
      ],
      "text/plain": [
       "      Vilnius  Kaunas  Klaipeda  Siauliai  Panevezys  Alytus  Druskininkai  \\\n",
       "2000       99      14        47        31         60      85            50   \n",
       "2004       51      61        51        23         22      43            14   \n",
       "2008       38      77        14        42         91      74            39   \n",
       "2012       86      48        82        89         15      58            40   \n",
       "2016       10      17        80        41         50      94            72   \n",
       "2020       46      24        75        80         49      25            70   \n",
       "2024       85      52        83        67         16      27            91   \n",
       "\n",
       "      Kazlu Ruda  \n",
       "2000          32  \n",
       "2004          10  \n",
       "2008          87  \n",
       "2012          26  \n",
       "2016          17  \n",
       "2020          49  \n",
       "2024          98  "
      ]
     },
     "execution_count": 21,
     "metadata": {},
     "output_type": "execute_result"
    }
   ],
   "source": [
    "miestu_skaiciai['Kazlu Ruda'] = kazluruda\n",
    "miestu_skaiciai"
   ]
  },
  {
   "cell_type": "code",
   "execution_count": 22,
   "metadata": {},
   "outputs": [],
   "source": [
    "miestu_skaiciai.drop('Siauliai', axis=1, inplace=True)"
   ]
  },
  {
   "cell_type": "code",
   "execution_count": 23,
   "metadata": {},
   "outputs": [
    {
     "data": {
      "text/html": [
       "<div>\n",
       "<style scoped>\n",
       "    .dataframe tbody tr th:only-of-type {\n",
       "        vertical-align: middle;\n",
       "    }\n",
       "\n",
       "    .dataframe tbody tr th {\n",
       "        vertical-align: top;\n",
       "    }\n",
       "\n",
       "    .dataframe thead th {\n",
       "        text-align: right;\n",
       "    }\n",
       "</style>\n",
       "<table border=\"1\" class=\"dataframe\">\n",
       "  <thead>\n",
       "    <tr style=\"text-align: right;\">\n",
       "      <th></th>\n",
       "      <th>Vilnius</th>\n",
       "      <th>Kaunas</th>\n",
       "      <th>Klaipeda</th>\n",
       "      <th>Panevezys</th>\n",
       "      <th>Alytus</th>\n",
       "      <th>Druskininkai</th>\n",
       "      <th>Kazlu Ruda</th>\n",
       "    </tr>\n",
       "  </thead>\n",
       "  <tbody>\n",
       "    <tr>\n",
       "      <th>2000</th>\n",
       "      <td>99</td>\n",
       "      <td>14</td>\n",
       "      <td>47</td>\n",
       "      <td>60</td>\n",
       "      <td>85</td>\n",
       "      <td>50</td>\n",
       "      <td>32</td>\n",
       "    </tr>\n",
       "    <tr>\n",
       "      <th>2004</th>\n",
       "      <td>51</td>\n",
       "      <td>61</td>\n",
       "      <td>51</td>\n",
       "      <td>22</td>\n",
       "      <td>43</td>\n",
       "      <td>14</td>\n",
       "      <td>10</td>\n",
       "    </tr>\n",
       "    <tr>\n",
       "      <th>2008</th>\n",
       "      <td>38</td>\n",
       "      <td>77</td>\n",
       "      <td>14</td>\n",
       "      <td>91</td>\n",
       "      <td>74</td>\n",
       "      <td>39</td>\n",
       "      <td>87</td>\n",
       "    </tr>\n",
       "    <tr>\n",
       "      <th>2012</th>\n",
       "      <td>86</td>\n",
       "      <td>48</td>\n",
       "      <td>82</td>\n",
       "      <td>15</td>\n",
       "      <td>58</td>\n",
       "      <td>40</td>\n",
       "      <td>26</td>\n",
       "    </tr>\n",
       "    <tr>\n",
       "      <th>2016</th>\n",
       "      <td>10</td>\n",
       "      <td>17</td>\n",
       "      <td>80</td>\n",
       "      <td>50</td>\n",
       "      <td>94</td>\n",
       "      <td>72</td>\n",
       "      <td>17</td>\n",
       "    </tr>\n",
       "    <tr>\n",
       "      <th>2020</th>\n",
       "      <td>46</td>\n",
       "      <td>24</td>\n",
       "      <td>75</td>\n",
       "      <td>49</td>\n",
       "      <td>25</td>\n",
       "      <td>70</td>\n",
       "      <td>49</td>\n",
       "    </tr>\n",
       "    <tr>\n",
       "      <th>2024</th>\n",
       "      <td>85</td>\n",
       "      <td>52</td>\n",
       "      <td>83</td>\n",
       "      <td>16</td>\n",
       "      <td>27</td>\n",
       "      <td>91</td>\n",
       "      <td>98</td>\n",
       "    </tr>\n",
       "  </tbody>\n",
       "</table>\n",
       "</div>"
      ],
      "text/plain": [
       "      Vilnius  Kaunas  Klaipeda  Panevezys  Alytus  Druskininkai  Kazlu Ruda\n",
       "2000       99      14        47         60      85            50          32\n",
       "2004       51      61        51         22      43            14          10\n",
       "2008       38      77        14         91      74            39          87\n",
       "2012       86      48        82         15      58            40          26\n",
       "2016       10      17        80         50      94            72          17\n",
       "2020       46      24        75         49      25            70          49\n",
       "2024       85      52        83         16      27            91          98"
      ]
     },
     "execution_count": 23,
     "metadata": {},
     "output_type": "execute_result"
    }
   ],
   "source": [
    "miestu_skaiciai"
   ]
  },
  {
   "cell_type": "code",
   "execution_count": 24,
   "metadata": {},
   "outputs": [
    {
     "data": {
      "text/html": [
       "<div>\n",
       "<style scoped>\n",
       "    .dataframe tbody tr th:only-of-type {\n",
       "        vertical-align: middle;\n",
       "    }\n",
       "\n",
       "    .dataframe tbody tr th {\n",
       "        vertical-align: top;\n",
       "    }\n",
       "\n",
       "    .dataframe thead th {\n",
       "        text-align: right;\n",
       "    }\n",
       "</style>\n",
       "<table border=\"1\" class=\"dataframe\">\n",
       "  <thead>\n",
       "    <tr style=\"text-align: right;\">\n",
       "      <th></th>\n",
       "      <th>Vilnius</th>\n",
       "      <th>Kaunas</th>\n",
       "      <th>Klaipeda</th>\n",
       "      <th>Panevezys</th>\n",
       "      <th>Alytus</th>\n",
       "      <th>Druskininkai</th>\n",
       "      <th>Kazlu Ruda</th>\n",
       "    </tr>\n",
       "  </thead>\n",
       "  <tbody>\n",
       "    <tr>\n",
       "      <th>2000</th>\n",
       "      <td>99</td>\n",
       "      <td>14</td>\n",
       "      <td>47</td>\n",
       "      <td>60</td>\n",
       "      <td>85</td>\n",
       "      <td>50</td>\n",
       "      <td>32</td>\n",
       "    </tr>\n",
       "    <tr>\n",
       "      <th>2004</th>\n",
       "      <td>51</td>\n",
       "      <td>61</td>\n",
       "      <td>51</td>\n",
       "      <td>22</td>\n",
       "      <td>43</td>\n",
       "      <td>14</td>\n",
       "      <td>10</td>\n",
       "    </tr>\n",
       "    <tr>\n",
       "      <th>2012</th>\n",
       "      <td>86</td>\n",
       "      <td>48</td>\n",
       "      <td>82</td>\n",
       "      <td>15</td>\n",
       "      <td>58</td>\n",
       "      <td>40</td>\n",
       "      <td>26</td>\n",
       "    </tr>\n",
       "    <tr>\n",
       "      <th>2016</th>\n",
       "      <td>10</td>\n",
       "      <td>17</td>\n",
       "      <td>80</td>\n",
       "      <td>50</td>\n",
       "      <td>94</td>\n",
       "      <td>72</td>\n",
       "      <td>17</td>\n",
       "    </tr>\n",
       "    <tr>\n",
       "      <th>2020</th>\n",
       "      <td>46</td>\n",
       "      <td>24</td>\n",
       "      <td>75</td>\n",
       "      <td>49</td>\n",
       "      <td>25</td>\n",
       "      <td>70</td>\n",
       "      <td>49</td>\n",
       "    </tr>\n",
       "    <tr>\n",
       "      <th>2024</th>\n",
       "      <td>85</td>\n",
       "      <td>52</td>\n",
       "      <td>83</td>\n",
       "      <td>16</td>\n",
       "      <td>27</td>\n",
       "      <td>91</td>\n",
       "      <td>98</td>\n",
       "    </tr>\n",
       "  </tbody>\n",
       "</table>\n",
       "</div>"
      ],
      "text/plain": [
       "      Vilnius  Kaunas  Klaipeda  Panevezys  Alytus  Druskininkai  Kazlu Ruda\n",
       "2000       99      14        47         60      85            50          32\n",
       "2004       51      61        51         22      43            14          10\n",
       "2012       86      48        82         15      58            40          26\n",
       "2016       10      17        80         50      94            72          17\n",
       "2020       46      24        75         49      25            70          49\n",
       "2024       85      52        83         16      27            91          98"
      ]
     },
     "execution_count": 24,
     "metadata": {},
     "output_type": "execute_result"
    }
   ],
   "source": [
    "miestai_be_2008 = miestu_skaiciai.drop(2008)\n",
    "miestai_be_2008"
   ]
  },
  {
   "cell_type": "code",
   "execution_count": 25,
   "metadata": {},
   "outputs": [
    {
     "data": {
      "text/plain": [
       "Vilnius         38\n",
       "Kaunas          77\n",
       "Klaipeda        14\n",
       "Panevezys       91\n",
       "Alytus          74\n",
       "Druskininkai    39\n",
       "Kazlu Ruda      87\n",
       "Name: 2008, dtype: int32"
      ]
     },
     "execution_count": 25,
     "metadata": {},
     "output_type": "execute_result"
    }
   ],
   "source": [
    "miestu_skaiciai.loc[2008]"
   ]
  },
  {
   "cell_type": "code",
   "execution_count": 26,
   "metadata": {},
   "outputs": [
    {
     "data": {
      "text/plain": [
       "Vilnius         86\n",
       "Kaunas          48\n",
       "Klaipeda        82\n",
       "Panevezys       15\n",
       "Alytus          58\n",
       "Druskininkai    40\n",
       "Kazlu Ruda      26\n",
       "Name: 2012, dtype: int32"
      ]
     },
     "execution_count": 26,
     "metadata": {},
     "output_type": "execute_result"
    }
   ],
   "source": [
    "miestu_skaiciai.iloc[3]"
   ]
  },
  {
   "cell_type": "code",
   "execution_count": 27,
   "metadata": {},
   "outputs": [
    {
     "data": {
      "text/plain": [
       "46"
      ]
     },
     "execution_count": 27,
     "metadata": {},
     "output_type": "execute_result"
    }
   ],
   "source": [
    "miestu_skaiciai['Vilnius'][2020]"
   ]
  },
  {
   "cell_type": "code",
   "execution_count": 28,
   "metadata": {},
   "outputs": [
    {
     "data": {
      "text/plain": [
       "46"
      ]
     },
     "execution_count": 28,
     "metadata": {},
     "output_type": "execute_result"
    }
   ],
   "source": [
    "miestu_skaiciai.loc[2020, 'Vilnius']"
   ]
  },
  {
   "cell_type": "code",
   "execution_count": 29,
   "metadata": {},
   "outputs": [
    {
     "data": {
      "text/html": [
       "<div>\n",
       "<style scoped>\n",
       "    .dataframe tbody tr th:only-of-type {\n",
       "        vertical-align: middle;\n",
       "    }\n",
       "\n",
       "    .dataframe tbody tr th {\n",
       "        vertical-align: top;\n",
       "    }\n",
       "\n",
       "    .dataframe thead th {\n",
       "        text-align: right;\n",
       "    }\n",
       "</style>\n",
       "<table border=\"1\" class=\"dataframe\">\n",
       "  <thead>\n",
       "    <tr style=\"text-align: right;\">\n",
       "      <th></th>\n",
       "      <th>Kaunas</th>\n",
       "      <th>Alytus</th>\n",
       "    </tr>\n",
       "  </thead>\n",
       "  <tbody>\n",
       "    <tr>\n",
       "      <th>2012</th>\n",
       "      <td>48</td>\n",
       "      <td>58</td>\n",
       "    </tr>\n",
       "    <tr>\n",
       "      <th>2020</th>\n",
       "      <td>24</td>\n",
       "      <td>25</td>\n",
       "    </tr>\n",
       "    <tr>\n",
       "      <th>2024</th>\n",
       "      <td>52</td>\n",
       "      <td>27</td>\n",
       "    </tr>\n",
       "  </tbody>\n",
       "</table>\n",
       "</div>"
      ],
      "text/plain": [
       "      Kaunas  Alytus\n",
       "2012      48      58\n",
       "2020      24      25\n",
       "2024      52      27"
      ]
     },
     "execution_count": 29,
     "metadata": {},
     "output_type": "execute_result"
    }
   ],
   "source": [
    "miestu_skaiciai.loc[[2012, 2020, 2024], ['Kaunas', 'Alytus']]"
   ]
  },
  {
   "cell_type": "code",
   "execution_count": 30,
   "metadata": {},
   "outputs": [
    {
     "data": {
      "text/html": [
       "<div>\n",
       "<style scoped>\n",
       "    .dataframe tbody tr th:only-of-type {\n",
       "        vertical-align: middle;\n",
       "    }\n",
       "\n",
       "    .dataframe tbody tr th {\n",
       "        vertical-align: top;\n",
       "    }\n",
       "\n",
       "    .dataframe thead th {\n",
       "        text-align: right;\n",
       "    }\n",
       "</style>\n",
       "<table border=\"1\" class=\"dataframe\">\n",
       "  <thead>\n",
       "    <tr style=\"text-align: right;\">\n",
       "      <th></th>\n",
       "      <th>Kaunas</th>\n",
       "      <th>Alytus</th>\n",
       "    </tr>\n",
       "  </thead>\n",
       "  <tbody>\n",
       "    <tr>\n",
       "      <th>2020</th>\n",
       "      <td>24</td>\n",
       "      <td>25</td>\n",
       "    </tr>\n",
       "    <tr>\n",
       "      <th>2012</th>\n",
       "      <td>48</td>\n",
       "      <td>58</td>\n",
       "    </tr>\n",
       "    <tr>\n",
       "      <th>2000</th>\n",
       "      <td>14</td>\n",
       "      <td>85</td>\n",
       "    </tr>\n",
       "  </tbody>\n",
       "</table>\n",
       "</div>"
      ],
      "text/plain": [
       "      Kaunas  Alytus\n",
       "2020      24      25\n",
       "2012      48      58\n",
       "2000      14      85"
      ]
     },
     "execution_count": 30,
     "metadata": {},
     "output_type": "execute_result"
    }
   ],
   "source": [
    "miestu_skaiciai[['Kaunas', 'Alytus']].loc[[2020, 2012, 2000]]"
   ]
  },
  {
   "cell_type": "code",
   "execution_count": 31,
   "metadata": {},
   "outputs": [
    {
     "data": {
      "text/html": [
       "<div>\n",
       "<style scoped>\n",
       "    .dataframe tbody tr th:only-of-type {\n",
       "        vertical-align: middle;\n",
       "    }\n",
       "\n",
       "    .dataframe tbody tr th {\n",
       "        vertical-align: top;\n",
       "    }\n",
       "\n",
       "    .dataframe thead th {\n",
       "        text-align: right;\n",
       "    }\n",
       "</style>\n",
       "<table border=\"1\" class=\"dataframe\">\n",
       "  <thead>\n",
       "    <tr style=\"text-align: right;\">\n",
       "      <th></th>\n",
       "      <th>Vilnius</th>\n",
       "      <th>Kaunas</th>\n",
       "      <th>Klaipeda</th>\n",
       "      <th>Panevezys</th>\n",
       "      <th>Alytus</th>\n",
       "      <th>Druskininkai</th>\n",
       "      <th>Kazlu Ruda</th>\n",
       "    </tr>\n",
       "  </thead>\n",
       "  <tbody>\n",
       "    <tr>\n",
       "      <th>2000</th>\n",
       "      <td>99.0</td>\n",
       "      <td>NaN</td>\n",
       "      <td>NaN</td>\n",
       "      <td>NaN</td>\n",
       "      <td>85.0</td>\n",
       "      <td>NaN</td>\n",
       "      <td>NaN</td>\n",
       "    </tr>\n",
       "    <tr>\n",
       "      <th>2004</th>\n",
       "      <td>NaN</td>\n",
       "      <td>NaN</td>\n",
       "      <td>NaN</td>\n",
       "      <td>NaN</td>\n",
       "      <td>NaN</td>\n",
       "      <td>NaN</td>\n",
       "      <td>NaN</td>\n",
       "    </tr>\n",
       "    <tr>\n",
       "      <th>2008</th>\n",
       "      <td>NaN</td>\n",
       "      <td>77.0</td>\n",
       "      <td>NaN</td>\n",
       "      <td>91.0</td>\n",
       "      <td>74.0</td>\n",
       "      <td>NaN</td>\n",
       "      <td>87.0</td>\n",
       "    </tr>\n",
       "    <tr>\n",
       "      <th>2012</th>\n",
       "      <td>86.0</td>\n",
       "      <td>NaN</td>\n",
       "      <td>82.0</td>\n",
       "      <td>NaN</td>\n",
       "      <td>NaN</td>\n",
       "      <td>NaN</td>\n",
       "      <td>NaN</td>\n",
       "    </tr>\n",
       "    <tr>\n",
       "      <th>2016</th>\n",
       "      <td>NaN</td>\n",
       "      <td>NaN</td>\n",
       "      <td>80.0</td>\n",
       "      <td>NaN</td>\n",
       "      <td>94.0</td>\n",
       "      <td>72.0</td>\n",
       "      <td>NaN</td>\n",
       "    </tr>\n",
       "    <tr>\n",
       "      <th>2020</th>\n",
       "      <td>NaN</td>\n",
       "      <td>NaN</td>\n",
       "      <td>75.0</td>\n",
       "      <td>NaN</td>\n",
       "      <td>NaN</td>\n",
       "      <td>NaN</td>\n",
       "      <td>NaN</td>\n",
       "    </tr>\n",
       "    <tr>\n",
       "      <th>2024</th>\n",
       "      <td>85.0</td>\n",
       "      <td>NaN</td>\n",
       "      <td>83.0</td>\n",
       "      <td>NaN</td>\n",
       "      <td>NaN</td>\n",
       "      <td>91.0</td>\n",
       "      <td>98.0</td>\n",
       "    </tr>\n",
       "  </tbody>\n",
       "</table>\n",
       "</div>"
      ],
      "text/plain": [
       "      Vilnius  Kaunas  Klaipeda  Panevezys  Alytus  Druskininkai  Kazlu Ruda\n",
       "2000     99.0     NaN       NaN        NaN    85.0           NaN         NaN\n",
       "2004      NaN     NaN       NaN        NaN     NaN           NaN         NaN\n",
       "2008      NaN    77.0       NaN       91.0    74.0           NaN        87.0\n",
       "2012     86.0     NaN      82.0        NaN     NaN           NaN         NaN\n",
       "2016      NaN     NaN      80.0        NaN    94.0          72.0         NaN\n",
       "2020      NaN     NaN      75.0        NaN     NaN           NaN         NaN\n",
       "2024     85.0     NaN      83.0        NaN     NaN          91.0        98.0"
      ]
     },
     "execution_count": 31,
     "metadata": {},
     "output_type": "execute_result"
    }
   ],
   "source": [
    "miestu_skaiciai[miestu_skaiciai > 70]"
   ]
  },
  {
   "cell_type": "code",
   "execution_count": 32,
   "metadata": {},
   "outputs": [
    {
     "name": "stdout",
     "output_type": "stream",
     "text": [
      "      Vilnius  Kaunas  Klaipeda  Panevezys  Alytus  Druskininkai  Kazlu Ruda\n",
      "2004       51      61        51         22      43            14          10\n",
      "2012       86      48        82         15      58            40          26\n",
      "2016       10      17        80         50      94            72          17\n",
      "2020       46      24        75         49      25            70          49\n",
      "2024       85      52        83         16      27            91          98\n"
     ]
    }
   ],
   "source": [
    "print(miestu_skaiciai[miestu_skaiciai['Klaipeda'] > 50])"
   ]
  },
  {
   "cell_type": "code",
   "execution_count": 33,
   "metadata": {},
   "outputs": [
    {
     "data": {
      "text/html": [
       "<div>\n",
       "<style scoped>\n",
       "    .dataframe tbody tr th:only-of-type {\n",
       "        vertical-align: middle;\n",
       "    }\n",
       "\n",
       "    .dataframe tbody tr th {\n",
       "        vertical-align: top;\n",
       "    }\n",
       "\n",
       "    .dataframe thead th {\n",
       "        text-align: right;\n",
       "    }\n",
       "</style>\n",
       "<table border=\"1\" class=\"dataframe\">\n",
       "  <thead>\n",
       "    <tr style=\"text-align: right;\">\n",
       "      <th></th>\n",
       "      <th>Vilnius</th>\n",
       "      <th>Klaipeda</th>\n",
       "    </tr>\n",
       "  </thead>\n",
       "  <tbody>\n",
       "    <tr>\n",
       "      <th>2012</th>\n",
       "      <td>86</td>\n",
       "      <td>82</td>\n",
       "    </tr>\n",
       "    <tr>\n",
       "      <th>2024</th>\n",
       "      <td>85</td>\n",
       "      <td>83</td>\n",
       "    </tr>\n",
       "  </tbody>\n",
       "</table>\n",
       "</div>"
      ],
      "text/plain": [
       "      Vilnius  Klaipeda\n",
       "2012       86        82\n",
       "2024       85        83"
      ]
     },
     "execution_count": 33,
     "metadata": {},
     "output_type": "execute_result"
    }
   ],
   "source": [
    "miestu_skaiciai[miestu_skaiciai['Klaipeda'] > 80][['Vilnius', 'Klaipeda']]"
   ]
  },
  {
   "cell_type": "code",
   "execution_count": 34,
   "metadata": {},
   "outputs": [
    {
     "data": {
      "text/html": [
       "<div>\n",
       "<style scoped>\n",
       "    .dataframe tbody tr th:only-of-type {\n",
       "        vertical-align: middle;\n",
       "    }\n",
       "\n",
       "    .dataframe tbody tr th {\n",
       "        vertical-align: top;\n",
       "    }\n",
       "\n",
       "    .dataframe thead th {\n",
       "        text-align: right;\n",
       "    }\n",
       "</style>\n",
       "<table border=\"1\" class=\"dataframe\">\n",
       "  <thead>\n",
       "    <tr style=\"text-align: right;\">\n",
       "      <th></th>\n",
       "      <th>Vilnius</th>\n",
       "      <th>Kaunas</th>\n",
       "      <th>Klaipeda</th>\n",
       "      <th>Panevezys</th>\n",
       "      <th>Alytus</th>\n",
       "      <th>Druskininkai</th>\n",
       "      <th>Kazlu Ruda</th>\n",
       "    </tr>\n",
       "  </thead>\n",
       "  <tbody>\n",
       "    <tr>\n",
       "      <th>2000</th>\n",
       "      <td>99</td>\n",
       "      <td>14</td>\n",
       "      <td>47</td>\n",
       "      <td>60</td>\n",
       "      <td>85</td>\n",
       "      <td>50</td>\n",
       "      <td>32</td>\n",
       "    </tr>\n",
       "    <tr>\n",
       "      <th>2012</th>\n",
       "      <td>86</td>\n",
       "      <td>48</td>\n",
       "      <td>82</td>\n",
       "      <td>15</td>\n",
       "      <td>58</td>\n",
       "      <td>40</td>\n",
       "      <td>26</td>\n",
       "    </tr>\n",
       "    <tr>\n",
       "      <th>2024</th>\n",
       "      <td>85</td>\n",
       "      <td>52</td>\n",
       "      <td>83</td>\n",
       "      <td>16</td>\n",
       "      <td>27</td>\n",
       "      <td>91</td>\n",
       "      <td>98</td>\n",
       "    </tr>\n",
       "  </tbody>\n",
       "</table>\n",
       "</div>"
      ],
      "text/plain": [
       "      Vilnius  Kaunas  Klaipeda  Panevezys  Alytus  Druskininkai  Kazlu Ruda\n",
       "2000       99      14        47         60      85            50          32\n",
       "2012       86      48        82         15      58            40          26\n",
       "2024       85      52        83         16      27            91          98"
      ]
     },
     "execution_count": 34,
     "metadata": {},
     "output_type": "execute_result"
    }
   ],
   "source": [
    "miestu_skaiciai[(miestu_skaiciai['Vilnius'] > 90) | (miestu_skaiciai['Klaipeda'] > 80)]"
   ]
  },
  {
   "cell_type": "code",
   "execution_count": 35,
   "metadata": {},
   "outputs": [
    {
     "data": {
      "text/html": [
       "<div>\n",
       "<style scoped>\n",
       "    .dataframe tbody tr th:only-of-type {\n",
       "        vertical-align: middle;\n",
       "    }\n",
       "\n",
       "    .dataframe tbody tr th {\n",
       "        vertical-align: top;\n",
       "    }\n",
       "\n",
       "    .dataframe thead th {\n",
       "        text-align: right;\n",
       "    }\n",
       "</style>\n",
       "<table border=\"1\" class=\"dataframe\">\n",
       "  <thead>\n",
       "    <tr style=\"text-align: right;\">\n",
       "      <th></th>\n",
       "      <th>index</th>\n",
       "      <th>Vilnius</th>\n",
       "      <th>Kaunas</th>\n",
       "      <th>Klaipeda</th>\n",
       "      <th>Panevezys</th>\n",
       "      <th>Alytus</th>\n",
       "      <th>Druskininkai</th>\n",
       "      <th>Kazlu Ruda</th>\n",
       "    </tr>\n",
       "  </thead>\n",
       "  <tbody>\n",
       "    <tr>\n",
       "      <th>0</th>\n",
       "      <td>2000</td>\n",
       "      <td>99</td>\n",
       "      <td>14</td>\n",
       "      <td>47</td>\n",
       "      <td>60</td>\n",
       "      <td>85</td>\n",
       "      <td>50</td>\n",
       "      <td>32</td>\n",
       "    </tr>\n",
       "    <tr>\n",
       "      <th>1</th>\n",
       "      <td>2004</td>\n",
       "      <td>51</td>\n",
       "      <td>61</td>\n",
       "      <td>51</td>\n",
       "      <td>22</td>\n",
       "      <td>43</td>\n",
       "      <td>14</td>\n",
       "      <td>10</td>\n",
       "    </tr>\n",
       "    <tr>\n",
       "      <th>2</th>\n",
       "      <td>2008</td>\n",
       "      <td>38</td>\n",
       "      <td>77</td>\n",
       "      <td>14</td>\n",
       "      <td>91</td>\n",
       "      <td>74</td>\n",
       "      <td>39</td>\n",
       "      <td>87</td>\n",
       "    </tr>\n",
       "    <tr>\n",
       "      <th>3</th>\n",
       "      <td>2012</td>\n",
       "      <td>86</td>\n",
       "      <td>48</td>\n",
       "      <td>82</td>\n",
       "      <td>15</td>\n",
       "      <td>58</td>\n",
       "      <td>40</td>\n",
       "      <td>26</td>\n",
       "    </tr>\n",
       "    <tr>\n",
       "      <th>4</th>\n",
       "      <td>2016</td>\n",
       "      <td>10</td>\n",
       "      <td>17</td>\n",
       "      <td>80</td>\n",
       "      <td>50</td>\n",
       "      <td>94</td>\n",
       "      <td>72</td>\n",
       "      <td>17</td>\n",
       "    </tr>\n",
       "    <tr>\n",
       "      <th>5</th>\n",
       "      <td>2020</td>\n",
       "      <td>46</td>\n",
       "      <td>24</td>\n",
       "      <td>75</td>\n",
       "      <td>49</td>\n",
       "      <td>25</td>\n",
       "      <td>70</td>\n",
       "      <td>49</td>\n",
       "    </tr>\n",
       "    <tr>\n",
       "      <th>6</th>\n",
       "      <td>2024</td>\n",
       "      <td>85</td>\n",
       "      <td>52</td>\n",
       "      <td>83</td>\n",
       "      <td>16</td>\n",
       "      <td>27</td>\n",
       "      <td>91</td>\n",
       "      <td>98</td>\n",
       "    </tr>\n",
       "  </tbody>\n",
       "</table>\n",
       "</div>"
      ],
      "text/plain": [
       "   index  Vilnius  Kaunas  Klaipeda  Panevezys  Alytus  Druskininkai  \\\n",
       "0   2000       99      14        47         60      85            50   \n",
       "1   2004       51      61        51         22      43            14   \n",
       "2   2008       38      77        14         91      74            39   \n",
       "3   2012       86      48        82         15      58            40   \n",
       "4   2016       10      17        80         50      94            72   \n",
       "5   2020       46      24        75         49      25            70   \n",
       "6   2024       85      52        83         16      27            91   \n",
       "\n",
       "   Kazlu Ruda  \n",
       "0          32  \n",
       "1          10  \n",
       "2          87  \n",
       "3          26  \n",
       "4          17  \n",
       "5          49  \n",
       "6          98  "
      ]
     },
     "execution_count": 35,
     "metadata": {},
     "output_type": "execute_result"
    }
   ],
   "source": [
    "miestu_skaiciai.reset_index()"
   ]
  },
  {
   "cell_type": "code",
   "execution_count": 36,
   "metadata": {},
   "outputs": [
    {
     "data": {
      "text/html": [
       "<div>\n",
       "<style scoped>\n",
       "    .dataframe tbody tr th:only-of-type {\n",
       "        vertical-align: middle;\n",
       "    }\n",
       "\n",
       "    .dataframe tbody tr th {\n",
       "        vertical-align: top;\n",
       "    }\n",
       "\n",
       "    .dataframe thead th {\n",
       "        text-align: right;\n",
       "    }\n",
       "</style>\n",
       "<table border=\"1\" class=\"dataframe\">\n",
       "  <thead>\n",
       "    <tr style=\"text-align: right;\">\n",
       "      <th></th>\n",
       "      <th>index</th>\n",
       "      <th>Vilnius</th>\n",
       "      <th>Kaunas</th>\n",
       "      <th>Klaipeda</th>\n",
       "      <th>Panevezys</th>\n",
       "      <th>Alytus</th>\n",
       "      <th>Druskininkai</th>\n",
       "      <th>Kazlu Ruda</th>\n",
       "    </tr>\n",
       "  </thead>\n",
       "  <tbody>\n",
       "    <tr>\n",
       "      <th>0</th>\n",
       "      <td>2000</td>\n",
       "      <td>99</td>\n",
       "      <td>14</td>\n",
       "      <td>47</td>\n",
       "      <td>60</td>\n",
       "      <td>85</td>\n",
       "      <td>50</td>\n",
       "      <td>32</td>\n",
       "    </tr>\n",
       "    <tr>\n",
       "      <th>1</th>\n",
       "      <td>2004</td>\n",
       "      <td>51</td>\n",
       "      <td>61</td>\n",
       "      <td>51</td>\n",
       "      <td>22</td>\n",
       "      <td>43</td>\n",
       "      <td>14</td>\n",
       "      <td>10</td>\n",
       "    </tr>\n",
       "    <tr>\n",
       "      <th>2</th>\n",
       "      <td>2008</td>\n",
       "      <td>38</td>\n",
       "      <td>77</td>\n",
       "      <td>14</td>\n",
       "      <td>91</td>\n",
       "      <td>74</td>\n",
       "      <td>39</td>\n",
       "      <td>87</td>\n",
       "    </tr>\n",
       "    <tr>\n",
       "      <th>3</th>\n",
       "      <td>2012</td>\n",
       "      <td>86</td>\n",
       "      <td>48</td>\n",
       "      <td>82</td>\n",
       "      <td>15</td>\n",
       "      <td>58</td>\n",
       "      <td>40</td>\n",
       "      <td>26</td>\n",
       "    </tr>\n",
       "    <tr>\n",
       "      <th>4</th>\n",
       "      <td>2016</td>\n",
       "      <td>10</td>\n",
       "      <td>17</td>\n",
       "      <td>80</td>\n",
       "      <td>50</td>\n",
       "      <td>94</td>\n",
       "      <td>72</td>\n",
       "      <td>17</td>\n",
       "    </tr>\n",
       "    <tr>\n",
       "      <th>5</th>\n",
       "      <td>2020</td>\n",
       "      <td>46</td>\n",
       "      <td>24</td>\n",
       "      <td>75</td>\n",
       "      <td>49</td>\n",
       "      <td>25</td>\n",
       "      <td>70</td>\n",
       "      <td>49</td>\n",
       "    </tr>\n",
       "    <tr>\n",
       "      <th>6</th>\n",
       "      <td>2024</td>\n",
       "      <td>85</td>\n",
       "      <td>52</td>\n",
       "      <td>83</td>\n",
       "      <td>16</td>\n",
       "      <td>27</td>\n",
       "      <td>91</td>\n",
       "      <td>98</td>\n",
       "    </tr>\n",
       "  </tbody>\n",
       "</table>\n",
       "</div>"
      ],
      "text/plain": [
       "   index  Vilnius  Kaunas  Klaipeda  Panevezys  Alytus  Druskininkai  \\\n",
       "0   2000       99      14        47         60      85            50   \n",
       "1   2004       51      61        51         22      43            14   \n",
       "2   2008       38      77        14         91      74            39   \n",
       "3   2012       86      48        82         15      58            40   \n",
       "4   2016       10      17        80         50      94            72   \n",
       "5   2020       46      24        75         49      25            70   \n",
       "6   2024       85      52        83         16      27            91   \n",
       "\n",
       "   Kazlu Ruda  \n",
       "0          32  \n",
       "1          10  \n",
       "2          87  \n",
       "3          26  \n",
       "4          17  \n",
       "5          49  \n",
       "6          98  "
      ]
     },
     "execution_count": 36,
     "metadata": {},
     "output_type": "execute_result"
    }
   ],
   "source": [
    "be_indekso = miestu_skaiciai.reset_index()\n",
    "be_indekso"
   ]
  },
  {
   "cell_type": "code",
   "execution_count": 37,
   "metadata": {},
   "outputs": [
    {
     "data": {
      "text/html": [
       "<div>\n",
       "<style scoped>\n",
       "    .dataframe tbody tr th:only-of-type {\n",
       "        vertical-align: middle;\n",
       "    }\n",
       "\n",
       "    .dataframe tbody tr th {\n",
       "        vertical-align: top;\n",
       "    }\n",
       "\n",
       "    .dataframe thead th {\n",
       "        text-align: right;\n",
       "    }\n",
       "</style>\n",
       "<table border=\"1\" class=\"dataframe\">\n",
       "  <thead>\n",
       "    <tr style=\"text-align: right;\">\n",
       "      <th></th>\n",
       "      <th>index</th>\n",
       "      <th>Vilnius</th>\n",
       "      <th>Kaunas</th>\n",
       "      <th>Klaipeda</th>\n",
       "      <th>Panevezys</th>\n",
       "      <th>Alytus</th>\n",
       "      <th>Druskininkai</th>\n",
       "      <th>Kazlu Ruda</th>\n",
       "      <th>Utena</th>\n",
       "    </tr>\n",
       "  </thead>\n",
       "  <tbody>\n",
       "    <tr>\n",
       "      <th>0</th>\n",
       "      <td>2000</td>\n",
       "      <td>99</td>\n",
       "      <td>14</td>\n",
       "      <td>47</td>\n",
       "      <td>60</td>\n",
       "      <td>85</td>\n",
       "      <td>50</td>\n",
       "      <td>32</td>\n",
       "      <td>42</td>\n",
       "    </tr>\n",
       "    <tr>\n",
       "      <th>1</th>\n",
       "      <td>2004</td>\n",
       "      <td>51</td>\n",
       "      <td>61</td>\n",
       "      <td>51</td>\n",
       "      <td>22</td>\n",
       "      <td>43</td>\n",
       "      <td>14</td>\n",
       "      <td>10</td>\n",
       "      <td>28</td>\n",
       "    </tr>\n",
       "    <tr>\n",
       "      <th>2</th>\n",
       "      <td>2008</td>\n",
       "      <td>38</td>\n",
       "      <td>77</td>\n",
       "      <td>14</td>\n",
       "      <td>91</td>\n",
       "      <td>74</td>\n",
       "      <td>39</td>\n",
       "      <td>87</td>\n",
       "      <td>38</td>\n",
       "    </tr>\n",
       "    <tr>\n",
       "      <th>3</th>\n",
       "      <td>2012</td>\n",
       "      <td>86</td>\n",
       "      <td>48</td>\n",
       "      <td>82</td>\n",
       "      <td>15</td>\n",
       "      <td>58</td>\n",
       "      <td>40</td>\n",
       "      <td>26</td>\n",
       "      <td>50</td>\n",
       "    </tr>\n",
       "    <tr>\n",
       "      <th>4</th>\n",
       "      <td>2016</td>\n",
       "      <td>10</td>\n",
       "      <td>17</td>\n",
       "      <td>80</td>\n",
       "      <td>50</td>\n",
       "      <td>94</td>\n",
       "      <td>72</td>\n",
       "      <td>17</td>\n",
       "      <td>20</td>\n",
       "    </tr>\n",
       "    <tr>\n",
       "      <th>5</th>\n",
       "      <td>2020</td>\n",
       "      <td>46</td>\n",
       "      <td>24</td>\n",
       "      <td>75</td>\n",
       "      <td>49</td>\n",
       "      <td>25</td>\n",
       "      <td>70</td>\n",
       "      <td>49</td>\n",
       "      <td>60</td>\n",
       "    </tr>\n",
       "    <tr>\n",
       "      <th>6</th>\n",
       "      <td>2024</td>\n",
       "      <td>85</td>\n",
       "      <td>52</td>\n",
       "      <td>83</td>\n",
       "      <td>16</td>\n",
       "      <td>27</td>\n",
       "      <td>91</td>\n",
       "      <td>98</td>\n",
       "      <td>62</td>\n",
       "    </tr>\n",
       "  </tbody>\n",
       "</table>\n",
       "</div>"
      ],
      "text/plain": [
       "   index  Vilnius  Kaunas  Klaipeda  Panevezys  Alytus  Druskininkai  \\\n",
       "0   2000       99      14        47         60      85            50   \n",
       "1   2004       51      61        51         22      43            14   \n",
       "2   2008       38      77        14         91      74            39   \n",
       "3   2012       86      48        82         15      58            40   \n",
       "4   2016       10      17        80         50      94            72   \n",
       "5   2020       46      24        75         49      25            70   \n",
       "6   2024       85      52        83         16      27            91   \n",
       "\n",
       "   Kazlu Ruda  Utena  \n",
       "0          32     42  \n",
       "1          10     28  \n",
       "2          87     38  \n",
       "3          26     50  \n",
       "4          17     20  \n",
       "5          49     60  \n",
       "6          98     62  "
      ]
     },
     "execution_count": 37,
     "metadata": {},
     "output_type": "execute_result"
    }
   ],
   "source": [
    "be_indekso['Utena'] = np.random.randint(10, 71, 7)\n",
    "be_indekso"
   ]
  },
  {
   "cell_type": "code",
   "execution_count": 38,
   "metadata": {},
   "outputs": [
    {
     "data": {
      "text/html": [
       "<div>\n",
       "<style scoped>\n",
       "    .dataframe tbody tr th:only-of-type {\n",
       "        vertical-align: middle;\n",
       "    }\n",
       "\n",
       "    .dataframe tbody tr th {\n",
       "        vertical-align: top;\n",
       "    }\n",
       "\n",
       "    .dataframe thead th {\n",
       "        text-align: right;\n",
       "    }\n",
       "</style>\n",
       "<table border=\"1\" class=\"dataframe\">\n",
       "  <thead>\n",
       "    <tr style=\"text-align: right;\">\n",
       "      <th></th>\n",
       "      <th>Vilnius</th>\n",
       "      <th>Kaunas</th>\n",
       "      <th>Klaipeda</th>\n",
       "      <th>Panevezys</th>\n",
       "      <th>Alytus</th>\n",
       "      <th>Druskininkai</th>\n",
       "      <th>Kazlu Ruda</th>\n",
       "      <th>Utena</th>\n",
       "    </tr>\n",
       "    <tr>\n",
       "      <th>index</th>\n",
       "      <th></th>\n",
       "      <th></th>\n",
       "      <th></th>\n",
       "      <th></th>\n",
       "      <th></th>\n",
       "      <th></th>\n",
       "      <th></th>\n",
       "      <th></th>\n",
       "    </tr>\n",
       "  </thead>\n",
       "  <tbody>\n",
       "    <tr>\n",
       "      <th>2000</th>\n",
       "      <td>99</td>\n",
       "      <td>14</td>\n",
       "      <td>47</td>\n",
       "      <td>60</td>\n",
       "      <td>85</td>\n",
       "      <td>50</td>\n",
       "      <td>32</td>\n",
       "      <td>42</td>\n",
       "    </tr>\n",
       "    <tr>\n",
       "      <th>2004</th>\n",
       "      <td>51</td>\n",
       "      <td>61</td>\n",
       "      <td>51</td>\n",
       "      <td>22</td>\n",
       "      <td>43</td>\n",
       "      <td>14</td>\n",
       "      <td>10</td>\n",
       "      <td>28</td>\n",
       "    </tr>\n",
       "    <tr>\n",
       "      <th>2008</th>\n",
       "      <td>38</td>\n",
       "      <td>77</td>\n",
       "      <td>14</td>\n",
       "      <td>91</td>\n",
       "      <td>74</td>\n",
       "      <td>39</td>\n",
       "      <td>87</td>\n",
       "      <td>38</td>\n",
       "    </tr>\n",
       "    <tr>\n",
       "      <th>2012</th>\n",
       "      <td>86</td>\n",
       "      <td>48</td>\n",
       "      <td>82</td>\n",
       "      <td>15</td>\n",
       "      <td>58</td>\n",
       "      <td>40</td>\n",
       "      <td>26</td>\n",
       "      <td>50</td>\n",
       "    </tr>\n",
       "    <tr>\n",
       "      <th>2016</th>\n",
       "      <td>10</td>\n",
       "      <td>17</td>\n",
       "      <td>80</td>\n",
       "      <td>50</td>\n",
       "      <td>94</td>\n",
       "      <td>72</td>\n",
       "      <td>17</td>\n",
       "      <td>20</td>\n",
       "    </tr>\n",
       "    <tr>\n",
       "      <th>2020</th>\n",
       "      <td>46</td>\n",
       "      <td>24</td>\n",
       "      <td>75</td>\n",
       "      <td>49</td>\n",
       "      <td>25</td>\n",
       "      <td>70</td>\n",
       "      <td>49</td>\n",
       "      <td>60</td>\n",
       "    </tr>\n",
       "    <tr>\n",
       "      <th>2024</th>\n",
       "      <td>85</td>\n",
       "      <td>52</td>\n",
       "      <td>83</td>\n",
       "      <td>16</td>\n",
       "      <td>27</td>\n",
       "      <td>91</td>\n",
       "      <td>98</td>\n",
       "      <td>62</td>\n",
       "    </tr>\n",
       "  </tbody>\n",
       "</table>\n",
       "</div>"
      ],
      "text/plain": [
       "       Vilnius  Kaunas  Klaipeda  Panevezys  Alytus  Druskininkai  Kazlu Ruda  \\\n",
       "index                                                                           \n",
       "2000        99      14        47         60      85            50          32   \n",
       "2004        51      61        51         22      43            14          10   \n",
       "2008        38      77        14         91      74            39          87   \n",
       "2012        86      48        82         15      58            40          26   \n",
       "2016        10      17        80         50      94            72          17   \n",
       "2020        46      24        75         49      25            70          49   \n",
       "2024        85      52        83         16      27            91          98   \n",
       "\n",
       "       Utena  \n",
       "index         \n",
       "2000      42  \n",
       "2004      28  \n",
       "2008      38  \n",
       "2012      50  \n",
       "2016      20  \n",
       "2020      60  \n",
       "2024      62  "
      ]
     },
     "execution_count": 38,
     "metadata": {},
     "output_type": "execute_result"
    }
   ],
   "source": [
    "su_utena = be_indekso.set_index('index')\n",
    "su_utena"
   ]
  },
  {
   "cell_type": "code",
   "execution_count": 39,
   "metadata": {},
   "outputs": [
    {
     "data": {
      "text/html": [
       "<div>\n",
       "<style scoped>\n",
       "    .dataframe tbody tr th:only-of-type {\n",
       "        vertical-align: middle;\n",
       "    }\n",
       "\n",
       "    .dataframe tbody tr th {\n",
       "        vertical-align: top;\n",
       "    }\n",
       "\n",
       "    .dataframe thead th {\n",
       "        text-align: right;\n",
       "    }\n",
       "</style>\n",
       "<table border=\"1\" class=\"dataframe\">\n",
       "  <thead>\n",
       "    <tr style=\"text-align: right;\">\n",
       "      <th></th>\n",
       "      <th>Vilnius</th>\n",
       "      <th>Kaunas</th>\n",
       "      <th>Klaipeda</th>\n",
       "      <th>Panevezys</th>\n",
       "      <th>Alytus</th>\n",
       "      <th>Druskininkai</th>\n",
       "      <th>Kazlu Ruda</th>\n",
       "      <th>Utena</th>\n",
       "    </tr>\n",
       "    <tr>\n",
       "      <th>index</th>\n",
       "      <th></th>\n",
       "      <th></th>\n",
       "      <th></th>\n",
       "      <th></th>\n",
       "      <th></th>\n",
       "      <th></th>\n",
       "      <th></th>\n",
       "      <th></th>\n",
       "    </tr>\n",
       "  </thead>\n",
       "  <tbody>\n",
       "    <tr>\n",
       "      <th>2000</th>\n",
       "      <td>99.0</td>\n",
       "      <td>NaN</td>\n",
       "      <td>47.0</td>\n",
       "      <td>60.0</td>\n",
       "      <td>85</td>\n",
       "      <td>50.0</td>\n",
       "      <td>32.0</td>\n",
       "      <td>42.0</td>\n",
       "    </tr>\n",
       "    <tr>\n",
       "      <th>2004</th>\n",
       "      <td>51.0</td>\n",
       "      <td>61.0</td>\n",
       "      <td>51.0</td>\n",
       "      <td>22.0</td>\n",
       "      <td>43</td>\n",
       "      <td>NaN</td>\n",
       "      <td>NaN</td>\n",
       "      <td>28.0</td>\n",
       "    </tr>\n",
       "    <tr>\n",
       "      <th>2008</th>\n",
       "      <td>38.0</td>\n",
       "      <td>77.0</td>\n",
       "      <td>NaN</td>\n",
       "      <td>91.0</td>\n",
       "      <td>74</td>\n",
       "      <td>39.0</td>\n",
       "      <td>87.0</td>\n",
       "      <td>38.0</td>\n",
       "    </tr>\n",
       "    <tr>\n",
       "      <th>2012</th>\n",
       "      <td>86.0</td>\n",
       "      <td>48.0</td>\n",
       "      <td>82.0</td>\n",
       "      <td>NaN</td>\n",
       "      <td>58</td>\n",
       "      <td>40.0</td>\n",
       "      <td>26.0</td>\n",
       "      <td>50.0</td>\n",
       "    </tr>\n",
       "    <tr>\n",
       "      <th>2016</th>\n",
       "      <td>NaN</td>\n",
       "      <td>NaN</td>\n",
       "      <td>80.0</td>\n",
       "      <td>50.0</td>\n",
       "      <td>94</td>\n",
       "      <td>72.0</td>\n",
       "      <td>NaN</td>\n",
       "      <td>NaN</td>\n",
       "    </tr>\n",
       "    <tr>\n",
       "      <th>2020</th>\n",
       "      <td>46.0</td>\n",
       "      <td>24.0</td>\n",
       "      <td>75.0</td>\n",
       "      <td>49.0</td>\n",
       "      <td>25</td>\n",
       "      <td>70.0</td>\n",
       "      <td>49.0</td>\n",
       "      <td>60.0</td>\n",
       "    </tr>\n",
       "    <tr>\n",
       "      <th>2024</th>\n",
       "      <td>85.0</td>\n",
       "      <td>52.0</td>\n",
       "      <td>83.0</td>\n",
       "      <td>NaN</td>\n",
       "      <td>27</td>\n",
       "      <td>91.0</td>\n",
       "      <td>98.0</td>\n",
       "      <td>62.0</td>\n",
       "    </tr>\n",
       "  </tbody>\n",
       "</table>\n",
       "</div>"
      ],
      "text/plain": [
       "       Vilnius  Kaunas  Klaipeda  Panevezys  Alytus  Druskininkai  Kazlu Ruda  \\\n",
       "index                                                                           \n",
       "2000      99.0     NaN      47.0       60.0      85          50.0        32.0   \n",
       "2004      51.0    61.0      51.0       22.0      43           NaN         NaN   \n",
       "2008      38.0    77.0       NaN       91.0      74          39.0        87.0   \n",
       "2012      86.0    48.0      82.0        NaN      58          40.0        26.0   \n",
       "2016       NaN     NaN      80.0       50.0      94          72.0         NaN   \n",
       "2020      46.0    24.0      75.0       49.0      25          70.0        49.0   \n",
       "2024      85.0    52.0      83.0        NaN      27          91.0        98.0   \n",
       "\n",
       "       Utena  \n",
       "index         \n",
       "2000    42.0  \n",
       "2004    28.0  \n",
       "2008    38.0  \n",
       "2012    50.0  \n",
       "2016     NaN  \n",
       "2020    60.0  \n",
       "2024    62.0  "
      ]
     },
     "execution_count": 39,
     "metadata": {},
     "output_type": "execute_result"
    }
   ],
   "source": [
    "su_utena[su_utena > 20]"
   ]
  }
 ],
 "metadata": {
  "kernelspec": {
   "display_name": "venv",
   "language": "python",
   "name": "python3"
  },
  "language_info": {
   "codemirror_mode": {
    "name": "ipython",
    "version": 3
   },
   "file_extension": ".py",
   "mimetype": "text/x-python",
   "name": "python",
   "nbconvert_exporter": "python",
   "pygments_lexer": "ipython3",
   "version": "3.11.7"
  }
 },
 "nbformat": 4,
 "nbformat_minor": 2
}
