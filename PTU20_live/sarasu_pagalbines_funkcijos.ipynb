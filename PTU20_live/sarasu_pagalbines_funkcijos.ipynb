{
 "cells": [
  {
   "cell_type": "code",
   "execution_count": 1,
   "metadata": {},
   "outputs": [
    {
     "name": "stdout",
     "output_type": "stream",
     "text": [
      "[22, 32, 36, 30]\n"
     ]
    }
   ],
   "source": [
    "sarasas = [1, 4, 8, 11, 16, 18, 3, 6, 15, 5]\n",
    "didesni = map(lambda x: x * 2, filter(lambda x: x > 10, sarasas))\n",
    "print(list(didesni))"
   ]
  },
  {
   "cell_type": "code",
   "execution_count": 2,
   "metadata": {},
   "outputs": [
    {
     "name": "stdout",
     "output_type": "stream",
     "text": [
      "[33, 48, 54, 45]\n"
     ]
    }
   ],
   "source": [
    "didesni = [x * 3 for x in sarasas if x > 10]\n",
    "print(didesni)"
   ]
  },
  {
   "cell_type": "code",
   "execution_count": 3,
   "metadata": {},
   "outputs": [
    {
     "name": "stdout",
     "output_type": "stream",
     "text": [
      "120\n"
     ]
    }
   ],
   "source": [
    "from functools import reduce\n",
    "skaiciai = [1, 2, 3, 4, 5]\n",
    "sandauga = reduce(lambda x, y: x * y , skaiciai)\n",
    "print(sandauga)"
   ]
  },
  {
   "cell_type": "code",
   "execution_count": 4,
   "metadata": {},
   "outputs": [
    {
     "name": "stdout",
     "output_type": "stream",
     "text": [
      "7\n",
      "7.0\n",
      "42\n",
      "4\n",
      "10\n"
     ]
    }
   ],
   "source": [
    "import statistics\n",
    "\n",
    "pazymiai = [7, 6, 7, 8, 4, 10]\n",
    "print(statistics.mean(pazymiai))\n",
    "print(statistics.median(pazymiai))\n",
    "print(sum(pazymiai))\n",
    "print(min(pazymiai))\n",
    "print(max(pazymiai))\n"
   ]
  },
  {
   "cell_type": "code",
   "execution_count": 7,
   "metadata": {},
   "outputs": [
    {
     "name": "stdout",
     "output_type": "stream",
     "text": [
      "[48, 21, 42, 16, 37]\n"
     ]
    }
   ],
   "source": [
    "loterija = [16, 48, 37, 21, 42]\n",
    "rikiuoti = sorted(loterija, key=lambda x: x % 3)\n",
    "print(rikiuoti)"
   ]
  },
  {
   "cell_type": "code",
   "execution_count": 10,
   "metadata": {},
   "outputs": [
    {
     "name": "stdout",
     "output_type": "stream",
     "text": [
      "14.0\n"
     ]
    }
   ],
   "source": [
    "from functools import reduce \n",
    "\n",
    "uzduotis = [15, 14, 19, 11, 17, 12, 16]\n",
    "lyginiai = reduce(lambda x, y: x + y, filter(lambda x: x % 2 == 0, uzduotis)) / len(list(filter(lambda x: x % 2== 0, uzduotis)))\n",
    "print(lyginiai)"
   ]
  }
 ],
 "metadata": {
  "kernelspec": {
   "display_name": "venv",
   "language": "python",
   "name": "python3"
  },
  "language_info": {
   "codemirror_mode": {
    "name": "ipython",
    "version": 3
   },
   "file_extension": ".py",
   "mimetype": "text/x-python",
   "name": "python",
   "nbconvert_exporter": "python",
   "pygments_lexer": "ipython3",
   "version": "3.11.7"
  }
 },
 "nbformat": 4,
 "nbformat_minor": 2
}
