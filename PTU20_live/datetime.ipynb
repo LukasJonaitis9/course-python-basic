{
 "cells": [
  {
   "cell_type": "code",
   "execution_count": 31,
   "metadata": {},
   "outputs": [],
   "source": [
    "from datetime import datetime"
   ]
  },
  {
   "cell_type": "markdown",
   "metadata": {},
   "source": [
    "## data ir laikas"
   ]
  },
  {
   "cell_type": "code",
   "execution_count": 32,
   "metadata": {},
   "outputs": [
    {
     "name": "stdout",
     "output_type": "stream",
     "text": [
      "1983-03-19 17:30:42\n"
     ]
    }
   ],
   "source": [
    "gimtalaikis = datetime(1983, 3, 19, 17, 30, 42)\n",
    "print(gimtalaikis)"
   ]
  },
  {
   "cell_type": "code",
   "execution_count": 33,
   "metadata": {},
   "outputs": [
    {
     "name": "stdout",
     "output_type": "stream",
     "text": [
      "2024-01-17 11:43:21.843130\n"
     ]
    }
   ],
   "source": [
    "dabar = datetime.now()\n",
    "print(dabar)"
   ]
  },
  {
   "cell_type": "code",
   "execution_count": 34,
   "metadata": {},
   "outputs": [],
   "source": [
    "from datetime import date"
   ]
  },
  {
   "cell_type": "code",
   "execution_count": 35,
   "metadata": {},
   "outputs": [
    {
     "name": "stdout",
     "output_type": "stream",
     "text": [
      "1983-03-19\n"
     ]
    }
   ],
   "source": [
    "gimtadienis = date(1983, 3, 19)\n",
    "print(gimtadienis)"
   ]
  },
  {
   "cell_type": "code",
   "execution_count": 36,
   "metadata": {},
   "outputs": [
    {
     "name": "stdout",
     "output_type": "stream",
     "text": [
      "2024-01-17\n"
     ]
    }
   ],
   "source": [
    "siandien = date.today()\n",
    "print(siandien)"
   ]
  },
  {
   "cell_type": "code",
   "execution_count": 37,
   "metadata": {},
   "outputs": [],
   "source": [
    "from datetime import timedelta"
   ]
  },
  {
   "cell_type": "code",
   "execution_count": 38,
   "metadata": {},
   "outputs": [
    {
     "name": "stdout",
     "output_type": "stream",
     "text": [
      "2024-01-24\n"
     ]
    }
   ],
   "source": [
    "print(siandien + timedelta(days=7))"
   ]
  },
  {
   "cell_type": "code",
   "execution_count": 39,
   "metadata": {},
   "outputs": [
    {
     "name": "stdout",
     "output_type": "stream",
     "text": [
      "2024-01-17 01:43:21.843130\n"
     ]
    }
   ],
   "source": [
    "print(dabar - timedelta(hours=10))"
   ]
  },
  {
   "cell_type": "code",
   "execution_count": 40,
   "metadata": {},
   "outputs": [
    {
     "name": "stdout",
     "output_type": "stream",
     "text": [
      "2024-01-17 00:43:21.964956\n"
     ]
    }
   ],
   "source": [
    "print(datetime.now() - timedelta(hours=11))"
   ]
  },
  {
   "cell_type": "code",
   "execution_count": 41,
   "metadata": {},
   "outputs": [
    {
     "name": "stdout",
     "output_type": "stream",
     "text": [
      "14914 days, 0:00:00\n"
     ]
    }
   ],
   "source": [
    "print(siandien - gimtadienis)"
   ]
  },
  {
   "cell_type": "code",
   "execution_count": 42,
   "metadata": {},
   "outputs": [
    {
     "name": "stdout",
     "output_type": "stream",
     "text": [
      "14914\n"
     ]
    }
   ],
   "source": [
    "amzius = siandien - gimtadienis\n",
    "print(amzius.days)"
   ]
  },
  {
   "cell_type": "code",
   "execution_count": 43,
   "metadata": {},
   "outputs": [
    {
     "name": "stdout",
     "output_type": "stream",
     "text": [
      "40\n"
     ]
    }
   ],
   "source": [
    "print(amzius.days // 365)"
   ]
  },
  {
   "cell_type": "code",
   "execution_count": 44,
   "metadata": {},
   "outputs": [],
   "source": [
    "datos_laiko_formatas = \"%Y-%m-%d %H val. %M min. %S sekundės\""
   ]
  },
  {
   "cell_type": "code",
   "execution_count": 45,
   "metadata": {},
   "outputs": [
    {
     "data": {
      "text/plain": [
       "'2024-01-17 11 val. 43 min. 21 sekundės'"
      ]
     },
     "execution_count": 45,
     "metadata": {},
     "output_type": "execute_result"
    }
   ],
   "source": [
    "dabar.strftime(datos_laiko_formatas)"
   ]
  },
  {
   "cell_type": "code",
   "execution_count": 46,
   "metadata": {},
   "outputs": [
    {
     "name": "stdout",
     "output_type": "stream",
     "text": [
      "Wednesday, January 17, 2024, day 017, week 02\n",
      "Saturday, March 19, 1983, day 078, week 11\n"
     ]
    }
   ],
   "source": [
    "datos_formatas = \"%A, %B %d, %Y, day %j, week %U\"\n",
    "print(dabar.strftime(datos_formatas))\n",
    "print(gimtadienis.strftime(datos_formatas))"
   ]
  },
  {
   "cell_type": "code",
   "execution_count": 47,
   "metadata": {},
   "outputs": [
    {
     "name": "stdout",
     "output_type": "stream",
     "text": [
      "2025-11-11 11:11:11 <class 'datetime.datetime'>\n"
     ]
    }
   ],
   "source": [
    "ateities_tekstas = \"2025-11-11 11 val. 11 min. 11 sekundės\"\n",
    "ateitis = datetime.strptime(ateities_tekstas, datos_laiko_formatas)\n",
    "print(ateitis, type(ateitis))"
   ]
  },
  {
   "cell_type": "code",
   "execution_count": 48,
   "metadata": {},
   "outputs": [
    {
     "name": "stdout",
     "output_type": "stream",
     "text": [
      "663 days, 23:27:48.908734\n"
     ]
    }
   ],
   "source": [
    "print(ateitis - datetime.now())"
   ]
  },
  {
   "cell_type": "code",
   "execution_count": 49,
   "metadata": {},
   "outputs": [],
   "source": [
    "import time"
   ]
  },
  {
   "cell_type": "code",
   "execution_count": 50,
   "metadata": {},
   "outputs": [
    {
     "name": "stdout",
     "output_type": "stream",
     "text": [
      "416935842.0\n"
     ]
    }
   ],
   "source": [
    "gimtalaikio_ts = time.mktime(gimtalaikis.timetuple())\n",
    "print(gimtalaikio_ts)"
   ]
  },
  {
   "cell_type": "code",
   "execution_count": 51,
   "metadata": {},
   "outputs": [
    {
     "name": "stdout",
     "output_type": "stream",
     "text": [
      "1705484602.0\n"
     ]
    }
   ],
   "source": [
    "dabarties_ts = time.mktime(datetime.now().timetuple())\n",
    "print(dabarties_ts)"
   ]
  },
  {
   "cell_type": "code",
   "execution_count": 52,
   "metadata": {},
   "outputs": [
    {
     "name": "stdout",
     "output_type": "stream",
     "text": [
      "2024-01-17 11:43:22\n"
     ]
    }
   ],
   "source": [
    "dto = datetime.fromtimestamp(dabarties_ts)\n",
    "print(dto)"
   ]
  },
  {
   "cell_type": "code",
   "execution_count": 53,
   "metadata": {},
   "outputs": [
    {
     "name": "stdout",
     "output_type": "stream",
     "text": [
      "Liko 0 dienos (-ų) iki gimtadienio.\n"
     ]
    }
   ],
   "source": [
    "from datetime import datetime, date\n",
    "\n",
    "def dienos_iki_gimtadienio(gimimo_data):\n",
    "    gimimo_data_format = datetime.strptime(gimimo_data, \"%Y-%m-%d\")\n",
    "    siandiena = date.today()\n",
    "    siandiena = datetime(siandiena.year, siandiena.month, siandiena.day)\n",
    "    gimtadienio_data = gimimo_data_format.replace(year=siandiena.year)\n",
    "\n",
    "    if gimtadienio_data < siandiena:\n",
    "        gimtadienio_data = gimtadienio_data.replace(year=siandiena.year + 1)\n",
    "\n",
    "    skirtumas = gimtadienio_data - siandiena\n",
    "    return skirtumas.days\n",
    "\n",
    "gimimo_data = \"2000-01-17\"\n",
    "print(f\"Liko {dienos_iki_gimtadienio(gimimo_data)} dienos (-ų) iki gimtadienio.\")"
   ]
  },
  {
   "cell_type": "markdown",
   "metadata": {},
   "source": [
    "## Laiko zonos"
   ]
  },
  {
   "cell_type": "code",
   "execution_count": 54,
   "metadata": {},
   "outputs": [
    {
     "name": "stdout",
     "output_type": "stream",
     "text": [
      "2024-01-17 09:43:22.194899\n"
     ]
    }
   ],
   "source": [
    "print(datetime.utcnow())"
   ]
  },
  {
   "cell_type": "markdown",
   "metadata": {},
   "source": [
    "kad veiktų `zoneinfo` reikia python'o package'o `tzdata` virtualioje aplinkoje\n",
    "\n",
    "```\n",
    "pip install tzdata\n",
    "```"
   ]
  },
  {
   "cell_type": "code",
   "execution_count": 55,
   "metadata": {},
   "outputs": [
    {
     "name": "stdout",
     "output_type": "stream",
     "text": [
      "Asia/Tokyo\n",
      "US/Hawaii\n",
      "Africa/Maseru\n",
      "Africa/Khartoum\n",
      "Pacific/Noumea\n",
      "America/Phoenix\n",
      "Etc/Zulu\n",
      "Pacific/Gambier\n",
      "Asia/Damascus\n",
      "America/Panama\n",
      "Zulu\n",
      "Atlantic/Canary\n",
      "America/Regina\n",
      "America/Belize\n",
      "Etc/GMT+6\n",
      "America/Blanc-Sablon\n",
      "Africa/Abidjan\n",
      "America/Buenos_Aires\n",
      "Asia/Jayapura\n",
      "America/Knox_IN\n",
      "Antarctica/Syowa\n",
      "US/Eastern\n",
      "Africa/Kinshasa\n",
      "Asia/Kuala_Lumpur\n",
      "Pacific/Apia\n",
      "GB-Eire\n",
      "Asia/Yekaterinburg\n",
      "America/Edmonton\n",
      "America/Moncton\n",
      "Pacific/Norfolk\n",
      "Asia/Ulan_Bator\n",
      "America/Goose_Bay\n",
      "Africa/Windhoek\n",
      "Europe/Lisbon\n",
      "Europe/Belfast\n",
      "Japan\n",
      "Europe/Jersey\n",
      "Africa/Asmara\n",
      "Africa/Casablanca\n",
      "Europe/Gibraltar\n",
      "America/Cayman\n",
      "Etc/GMT+2\n",
      "Australia/Adelaide\n",
      "America/Marigot\n",
      "Pacific/Marquesas\n",
      "Asia/Tehran\n",
      "America/Jujuy\n",
      "Asia/Thimbu\n",
      "Asia/Krasnoyarsk\n",
      "America/Coral_Harbour\n",
      "America/Chihuahua\n",
      "Africa/Dakar\n",
      "Asia/Yakutsk\n",
      "Asia/Qostanay\n",
      "Africa/Bamako\n",
      "Pacific/Kanton\n",
      "Asia/Makassar\n",
      "America/Araguaina\n",
      "Africa/Nouakchott\n",
      "America/Havana\n",
      "Pacific/Midway\n",
      "America/Catamarca\n",
      "Africa/Djibouti\n",
      "America/Fortaleza\n",
      "Atlantic/Azores\n",
      "Africa/Juba\n",
      "Pacific/Tahiti\n",
      "Australia/Brisbane\n",
      "Kwajalein\n",
      "Portugal\n",
      "ROC\n",
      "America/Thunder_Bay\n",
      "Europe/Zaporozhye\n",
      "Africa/Mbabane\n",
      "America/Port-au-Prince\n",
      "Europe/Kirov\n",
      "Indian/Mayotte\n",
      "WET\n",
      "America/Resolute\n",
      "America/Rio_Branco\n",
      "Asia/Oral\n",
      "Europe/Rome\n",
      "America/Grand_Turk\n",
      "America/Dominica\n",
      "EET\n",
      "America/Metlakatla\n",
      "Africa/Ndjamena\n",
      "Asia/Khandyga\n",
      "Asia/Dacca\n",
      "Asia/Katmandu\n",
      "Asia/Choibalsan\n",
      "America/Bahia\n",
      "Pacific/Nauru\n",
      "Asia/Almaty\n",
      "America/Monterrey\n",
      "America/Argentina/Catamarca\n",
      "Atlantic/Stanley\n",
      "MET\n",
      "Asia/Urumqi\n",
      "Europe/Tiraspol\n",
      "Etc/GMT-14\n",
      "America/Inuvik\n",
      "Pacific/Kiritimati\n",
      "Asia/Srednekolymsk\n",
      "US/Michigan\n",
      "Australia/Tasmania\n",
      "Etc/GMT-3\n",
      "Etc/GMT-0\n",
      "Europe/Mariehamn\n",
      "Asia/Shanghai\n",
      "America/Curacao\n",
      "Australia/Lindeman\n",
      "America/Indiana/Indianapolis\n",
      "America/Whitehorse\n",
      "America/Belem\n",
      "Asia/Calcutta\n",
      "America/Swift_Current\n",
      "Europe/Guernsey\n",
      "Asia/Samarkand\n",
      "America/Guadeloupe\n",
      "Pacific/Majuro\n",
      "America/Halifax\n",
      "Europe/Luxembourg\n",
      "America/Guatemala\n",
      "Asia/Nicosia\n",
      "PRC\n",
      "America/Santo_Domingo\n",
      "America/Adak\n",
      "Etc/GMT+11\n",
      "Pacific/Efate\n",
      "ROK\n",
      "Pacific/Pago_Pago\n",
      "Africa/Douala\n",
      "Europe/Berlin\n",
      "Etc/GMT+12\n",
      "Australia/Sydney\n",
      "America/Port_of_Spain\n",
      "Canada/Atlantic\n",
      "Asia/Barnaul\n",
      "Asia/Famagusta\n",
      "Europe/Volgograd\n",
      "America/Fort_Wayne\n",
      "Asia/Tel_Aviv\n",
      "America/Fort_Nelson\n",
      "Africa/Accra\n",
      "America/Nuuk\n",
      "America/Santa_Isabel\n",
      "Pacific/Palau\n",
      "America/Boise\n",
      "Asia/Jerusalem\n",
      "Israel\n",
      "Asia/Kamchatka\n",
      "America/Winnipeg\n",
      "Africa/Kigali\n",
      "Indian/Comoro\n",
      "America/Mazatlan\n",
      "America/Paramaribo\n",
      "America/Glace_Bay\n",
      "EST\n",
      "America/St_Vincent\n",
      "Asia/Kolkata\n",
      "Atlantic/Bermuda\n",
      "Etc/GMT+9\n",
      "Etc/GMT-13\n",
      "Asia/Tbilisi\n",
      "Europe/Riga\n",
      "Africa/Banjul\n",
      "Africa/Sao_Tome\n",
      "America/Santarem\n",
      "America/Virgin\n",
      "America/Chicago\n",
      "PST8PDT\n",
      "Europe/Bratislava\n",
      "Atlantic/Madeira\n",
      "Canada/Yukon\n",
      "Australia/Yancowinna\n",
      "America/Montreal\n",
      "Europe/Skopje\n",
      "Asia/Seoul\n",
      "Asia/Dili\n",
      "Asia/Atyrau\n",
      "Asia/Macao\n",
      "Europe/Samara\n",
      "Etc/GMT+3\n",
      "Europe/Amsterdam\n",
      "America/Guyana\n",
      "America/Argentina/Ushuaia\n",
      "Pacific/Tarawa\n",
      "Africa/Nairobi\n",
      "Asia/Chungking\n",
      "Etc/GMT+8\n",
      "Africa/Timbuktu\n",
      "Asia/Kuwait\n",
      "America/Toronto\n",
      "Eire\n",
      "America/Managua\n",
      "Etc/GMT-2\n",
      "Etc/GMT-1\n",
      "Mexico/BajaNorte\n",
      "Europe/Andorra\n",
      "America/Nipigon\n",
      "Asia/Tashkent\n",
      "America/Maceio\n",
      "Etc/GMT-12\n",
      "Etc/GMT+1\n",
      "Africa/Johannesburg\n",
      "Europe/Zagreb\n",
      "Pacific/Ponape\n",
      "America/Thule\n",
      "America/Atka\n",
      "Poland\n",
      "Indian/Maldives\n",
      "Asia/Qatar\n",
      "Australia/Darwin\n",
      "Europe/Isle_of_Man\n",
      "Africa/Addis_Ababa\n",
      "Antarctica/DumontDUrville\n",
      "Europe/Busingen\n",
      "Europe/Brussels\n",
      "America/Hermosillo\n",
      "Etc/UTC\n",
      "America/Martinique\n",
      "Asia/Beirut\n",
      "America/St_Kitts\n",
      "Africa/Brazzaville\n",
      "Pacific/Easter\n",
      "Australia/Currie\n",
      "America/Shiprock\n",
      "Asia/Hovd\n",
      "Asia/Sakhalin\n",
      "America/North_Dakota/Center\n",
      "Africa/El_Aaiun\n",
      "Asia/Hebron\n",
      "America/Nassau\n",
      "America/Asuncion\n",
      "Asia/Kashgar\n",
      "Asia/Taipei\n",
      "America/Antigua\n",
      "Asia/Singapore\n",
      "America/Cordoba\n",
      "Asia/Saigon\n",
      "Africa/Asmera\n",
      "Asia/Ulaanbaatar\n",
      "Asia/Phnom_Penh\n",
      "Asia/Hong_Kong\n",
      "Australia/Hobart\n",
      "Asia/Anadyr\n",
      "Europe/Copenhagen\n",
      "Etc/GMT-6\n",
      "Africa/Bissau\n",
      "MST\n",
      "Cuba\n",
      "Etc/GMT-9\n",
      "Indian/Kerguelen\n",
      "Asia/Manila\n",
      "US/Central\n",
      "Etc/GMT+5\n",
      "America/Cayenne\n",
      "Europe/Simferopol\n",
      "Asia/Ust-Nera\n",
      "Asia/Vladivostok\n",
      "Australia/North\n",
      "America/Costa_Rica\n",
      "America/Recife\n",
      "Etc/Universal\n",
      "America/Vancouver\n",
      "America/Mexico_City\n",
      "US/Alaska\n",
      "US/Mountain\n",
      "Africa/Gaborone\n",
      "Antarctica/McMurdo\n",
      "Europe/Kaliningrad\n",
      "Asia/Gaza\n",
      "Asia/Qyzylorda\n",
      "UTC\n",
      "America/Aruba\n",
      "Mexico/General\n",
      "Etc/GMT+7\n",
      "Australia/Victoria\n",
      "Africa/Bujumbura\n",
      "Indian/Mauritius\n",
      "Iceland\n",
      "US/Arizona\n",
      "America/Indiana/Vincennes\n",
      "America/Argentina/Buenos_Aires\n",
      "Antarctica/Mawson\n",
      "Pacific/Pohnpei\n",
      "Etc/GMT-5\n",
      "Navajo\n",
      "America/Nome\n",
      "CST6CDT\n",
      "Europe/Vaduz\n",
      "Pacific/Fakaofo\n",
      "Africa/Tripoli\n",
      "Atlantic/Reykjavik\n",
      "Mexico/BajaSur\n",
      "Asia/Magadan\n",
      "Pacific/Saipan\n",
      "America/Anguilla\n",
      "Pacific/Enderbury\n",
      "MST7MDT\n",
      "America/Sao_Paulo\n",
      "NZ-CHAT\n",
      "Asia/Yangon\n",
      "Africa/Dar_es_Salaam\n",
      "America/Indiana/Marengo\n",
      "America/Eirunepe\n",
      "America/Godthab\n",
      "Africa/Monrovia\n",
      "Europe/Dublin\n",
      "America/Dawson_Creek\n",
      "Pacific/Funafuti\n",
      "Europe/Monaco\n",
      "America/Danmarkshavn\n",
      "America/Matamoros\n",
      "Europe/Vienna\n",
      "Europe/Moscow\n",
      "Canada/Pacific\n",
      "Antarctica/Palmer\n",
      "Etc/Greenwich\n",
      "Africa/Bangui\n",
      "Asia/Omsk\n",
      "Pacific/Tongatapu\n",
      "America/Argentina/Salta\n",
      "Australia/South\n",
      "GMT-0\n",
      "America/Kentucky/Louisville\n",
      "Canada/Central\n",
      "America/Argentina/Mendoza\n",
      "Europe/Vatican\n",
      "Indian/Cocos\n",
      "Europe/Sofia\n",
      "Pacific/Johnston\n",
      "Asia/Aqtau\n",
      "Australia/ACT\n",
      "America/Puerto_Rico\n",
      "Europe/Kiev\n",
      "Arctic/Longyearbyen\n",
      "America/Detroit\n",
      "Australia/Queensland\n",
      "Pacific/Port_Moresby\n",
      "Pacific/Bougainville\n",
      "America/Los_Angeles\n",
      "Egypt\n",
      "Indian/Reunion\n",
      "America/Tortola\n",
      "Asia/Macau\n",
      "Africa/Luanda\n",
      "Asia/Bishkek\n",
      "Europe/Prague\n",
      "Atlantic/South_Georgia\n",
      "Africa/Porto-Novo\n",
      "Atlantic/St_Helena\n",
      "Australia/West\n",
      "Asia/Kabul\n",
      "America/Atikokan\n",
      "America/Rainy_River\n",
      "Pacific/Kosrae\n",
      "US/Indiana-Starke\n",
      "America/Lower_Princes\n",
      "America/St_Johns\n",
      "America/Boa_Vista\n",
      "Africa/Lome\n",
      "America/Argentina/ComodRivadavia\n",
      "Australia/Melbourne\n",
      "Africa/Ouagadougou\n",
      "Australia/Canberra\n",
      "America/Argentina/San_Luis\n",
      "Pacific/Guadalcanal\n",
      "Europe/Istanbul\n",
      "Australia/Lord_Howe\n",
      "America/Noronha\n",
      "Africa/Niamey\n",
      "America/Cancun\n",
      "America/Indiana/Winamac\n",
      "Africa/Harare\n",
      "Europe/Vilnius\n",
      "Europe/Tirane\n",
      "Asia/Brunei\n",
      "Antarctica/Vostok\n",
      "Asia/Baku\n",
      "Universal\n",
      "Australia/LHI\n",
      "America/El_Salvador\n",
      "Europe/Warsaw\n",
      "EST5EDT\n",
      "Europe/Sarajevo\n",
      "America/Cambridge_Bay\n",
      "Brazil/DeNoronha\n",
      "Asia/Chongqing\n",
      "Atlantic/Faeroe\n",
      "Asia/Bangkok\n",
      "America/North_Dakota/Beulah\n",
      "CET\n",
      "Pacific/Chatham\n",
      "Asia/Harbin\n",
      "Europe/San_Marino\n",
      "Asia/Ho_Chi_Minh\n",
      "UCT\n",
      "America/Louisville\n",
      "Etc/UCT\n",
      "Asia/Amman\n",
      "Africa/Blantyre\n",
      "America/Yellowknife\n",
      "Asia/Ashkhabad\n",
      "Antarctica/Davis\n",
      "Asia/Aqtobe\n",
      "Europe/Paris\n",
      "Africa/Lusaka\n",
      "Europe/Nicosia\n",
      "America/Ojinaga\n",
      "Etc/GMT+4\n",
      "America/Anchorage\n",
      "GB\n",
      "NZ\n",
      "Etc/GMT-10\n",
      "Antarctica/Rothera\n",
      "Etc/GMT-7\n",
      "America/Indiana/Knox\n",
      "America/Montserrat\n",
      "Europe/Budapest\n",
      "Jamaica\n",
      "Etc/GMT-4\n",
      "Pacific/Guam\n",
      "Asia/Bahrain\n",
      "America/Argentina/Jujuy\n",
      "Asia/Ujung_Pandang\n",
      "Canada/Eastern\n",
      "America/La_Paz\n",
      "Antarctica/Casey\n",
      "Etc/GMT-8\n",
      "GMT+0\n",
      "Asia/Riyadh\n",
      "Africa/Maputo\n",
      "Hongkong\n",
      "America/Dawson\n",
      "America/Barbados\n",
      "Australia/NSW\n",
      "Asia/Baghdad\n",
      "Europe/London\n",
      "Antarctica/Macquarie\n",
      "W-SU\n",
      "GMT\n",
      "Europe/Podgorica\n",
      "Iran\n",
      "Asia/Rangoon\n",
      "Africa/Lagos\n",
      "America/Caracas\n",
      "America/Argentina/San_Juan\n",
      "America/Pangnirtung\n",
      "Africa/Tunis\n",
      "America/Porto_Velho\n",
      "Canada/Saskatchewan\n",
      "Asia/Kathmandu\n",
      "US/Aleutian\n",
      "America/New_York\n",
      "Asia/Tomsk\n",
      "America/Juneau\n",
      "America/Jamaica\n",
      "Asia/Pyongyang\n",
      "Europe/Belgrade\n",
      "America/Menominee\n",
      "Europe/Kyiv\n",
      "America/Yakutat\n",
      "America/Tijuana\n",
      "America/Porto_Acre\n",
      "America/Argentina/Cordoba\n",
      "Brazil/East\n",
      "Africa/Malabo\n",
      "Pacific/Wallis\n",
      "America/Indiana/Tell_City\n",
      "Indian/Antananarivo\n",
      "Asia/Dushanbe\n",
      "Europe/Athens\n",
      "America/Bogota\n",
      "Africa/Conakry\n",
      "America/Guayaquil\n",
      "America/Argentina/Tucuman\n",
      "Australia/Eucla\n",
      "America/Cuiaba\n",
      "America/St_Thomas\n",
      "Pacific/Truk\n",
      "Pacific/Yap\n",
      "America/Rosario\n",
      "Europe/Oslo\n",
      "Pacific/Honolulu\n",
      "America/Mendoza\n",
      "Australia/Perth\n",
      "America/Iqaluit\n",
      "Pacific/Niue\n",
      "America/Rankin_Inlet\n",
      "America/Argentina/La_Rioja\n",
      "Factory\n",
      "Brazil/West\n",
      "US/East-Indiana\n",
      "Europe/Malta\n",
      "Brazil/Acre\n",
      "America/Indianapolis\n",
      "Asia/Vientiane\n",
      "Africa/Algiers\n",
      "Asia/Chita\n",
      "Asia/Dubai\n",
      "Europe/Minsk\n",
      "Greenwich\n",
      "Turkey\n",
      "US/Pacific\n",
      "Asia/Yerevan\n",
      "Europe/Chisinau\n",
      "Singapore\n",
      "Asia/Aden\n",
      "Africa/Lubumbashi\n",
      "Europe/Uzhgorod\n",
      "Etc/GMT0\n",
      "Asia/Novokuznetsk\n",
      "America/Campo_Grande\n",
      "America/Santiago\n",
      "HST\n",
      "Asia/Muscat\n",
      "Pacific/Kwajalein\n",
      "Europe/Bucharest\n",
      "America/North_Dakota/New_Salem\n",
      "Africa/Freetown\n",
      "Asia/Istanbul\n",
      "Europe/Stockholm\n",
      "Africa/Libreville\n",
      "Pacific/Fiji\n",
      "Pacific/Samoa\n",
      "Asia/Ashgabat\n",
      "America/Kentucky/Monticello\n",
      "America/St_Barthelemy\n",
      "America/Indiana/Vevay\n",
      "Etc/GMT+10\n",
      "Australia/Broken_Hill\n",
      "Atlantic/Jan_Mayen\n",
      "America/Merida\n",
      "Chile/EasterIsland\n",
      "America/Montevideo\n",
      "Europe/Madrid\n",
      "Atlantic/Cape_Verde\n",
      "Antarctica/Troll\n",
      "Canada/Newfoundland\n",
      "Asia/Novosibirsk\n",
      "Europe/Saratov\n",
      "America/Manaus\n",
      "Libya\n",
      "America/Punta_Arenas\n",
      "America/Miquelon\n",
      "Pacific/Galapagos\n",
      "America/Bahia_Banderas\n",
      "Asia/Pontianak\n",
      "Indian/Mahe\n",
      "America/Argentina/Rio_Gallegos\n",
      "Asia/Thimphu\n",
      "US/Samoa\n",
      "Europe/Zurich\n",
      "Africa/Mogadishu\n",
      "America/Kralendijk\n",
      "Indian/Chagos\n",
      "America/Grenada\n",
      "Etc/GMT+0\n",
      "Europe/Ulyanovsk\n",
      "Asia/Karachi\n",
      "America/Tegucigalpa\n",
      "Africa/Cairo\n",
      "Indian/Christmas\n",
      "America/St_Lucia\n",
      "Asia/Irkutsk\n",
      "Asia/Kuching\n",
      "Pacific/Rarotonga\n",
      "Europe/Astrakhan\n",
      "Asia/Dhaka\n",
      "America/Scoresbysund\n",
      "Pacific/Pitcairn\n",
      "America/Creston\n",
      "Pacific/Chuuk\n",
      "Etc/GMT\n",
      "America/Indiana/Petersburg\n",
      "Pacific/Wake\n",
      "Europe/Tallinn\n",
      "Pacific/Auckland\n",
      "America/Sitka\n",
      "Etc/GMT-11\n",
      "Africa/Ceuta\n",
      "Europe/Ljubljana\n",
      "Chile/Continental\n",
      "Africa/Kampala\n",
      "America/Ciudad_Juarez\n",
      "Canada/Mountain\n",
      "America/Ensenada\n",
      "Antarctica/South_Pole\n",
      "GMT0\n",
      "Asia/Jakarta\n",
      "Atlantic/Faroe\n",
      "Europe/Helsinki\n",
      "America/Denver\n",
      "America/Lima\n",
      "Asia/Colombo\n"
     ]
    }
   ],
   "source": [
    "from zoneinfo import available_timezones\n",
    "for zone in available_timezones():\n",
    "    print(zone)"
   ]
  },
  {
   "cell_type": "code",
   "execution_count": 56,
   "metadata": {},
   "outputs": [
    {
     "name": "stdout",
     "output_type": "stream",
     "text": [
      "2024-01-16 16:00:00+02:00\n"
     ]
    }
   ],
   "source": [
    "from zoneinfo import ZoneInfo\n",
    "paskaita_baigsis = datetime(2024, 1, 16, 16, \n",
    "                            tzinfo=ZoneInfo(\"Europe/Vilnius\"))\n",
    "print(paskaita_baigsis)"
   ]
  },
  {
   "cell_type": "code",
   "execution_count": 57,
   "metadata": {},
   "outputs": [
    {
     "name": "stdout",
     "output_type": "stream",
     "text": [
      "Europe/Vilnius\n"
     ]
    }
   ],
   "source": [
    "print(paskaita_baigsis.tzinfo)"
   ]
  },
  {
   "cell_type": "code",
   "execution_count": 58,
   "metadata": {},
   "outputs": [
    {
     "name": "stdout",
     "output_type": "stream",
     "text": [
      "2024-01-17 11:43:22.280045+02:00\n"
     ]
    }
   ],
   "source": [
    "dabar_utc = datetime.utcnow().replace(tzinfo=ZoneInfo(\"UTC\"))\n",
    "dabar_lietuvoje = dabar_utc.astimezone(ZoneInfo(\"Europe/Vilnius\"))\n",
    "print(dabar_lietuvoje)"
   ]
  },
  {
   "cell_type": "code",
   "execution_count": 59,
   "metadata": {},
   "outputs": [
    {
     "name": "stdout",
     "output_type": "stream",
     "text": [
      "-1 day, 4:16:37.719955\n"
     ]
    }
   ],
   "source": [
    "iki_galo_liko = paskaita_baigsis - dabar_lietuvoje\n",
    "print(iki_galo_liko)"
   ]
  },
  {
   "cell_type": "code",
   "execution_count": 60,
   "metadata": {},
   "outputs": [
    {
     "name": "stdout",
     "output_type": "stream",
     "text": [
      "-1 day, 4:16:37.680802\n"
     ]
    }
   ],
   "source": [
    "print(paskaita_baigsis - datetime.utcnow().replace(tzinfo=ZoneInfo(\"UTC\")))"
   ]
  },
  {
   "cell_type": "code",
   "execution_count": 61,
   "metadata": {},
   "outputs": [
    {
     "name": "stdout",
     "output_type": "stream",
     "text": [
      "2024-01-17 11:43:22.339198+02:00\n"
     ]
    }
   ],
   "source": [
    "kitaip_dabar_lt = datetime.now().replace(tzinfo=ZoneInfo(\"Europe/Vilnius\"))\n",
    "print(kitaip_dabar_lt)"
   ]
  }
 ],
 "metadata": {
  "kernelspec": {
   "display_name": "Python 3",
   "language": "python",
   "name": "python3"
  },
  "language_info": {
   "codemirror_mode": {
    "name": "ipython",
    "version": 3
   },
   "file_extension": ".py",
   "mimetype": "text/x-python",
   "name": "python",
   "nbconvert_exporter": "python",
   "pygments_lexer": "ipython3",
   "version": "3.11.7"
  }
 },
 "nbformat": 4,
 "nbformat_minor": 2
}
