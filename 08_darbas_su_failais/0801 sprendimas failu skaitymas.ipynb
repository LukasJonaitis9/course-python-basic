{
 "cells": [
  {
   "cell_type": "markdown",
   "metadata": {},
   "source": [
    "### Pirma užduotis\n",
    "Atidarykite tekstiniame faile esančią eilutę ir atspausdinkite ją, pakeičiant visus didžiąsias raides mažosiomis ir atvirkščiai. Failo pavadinimas: \"pakeitimai.txt\".💡 Galite naudoti swapcase() funkciją."
   ]
  },
  {
   "cell_type": "code",
   "execution_count": 12,
   "metadata": {},
   "outputs": [
    {
     "name": "stdout",
     "output_type": "stream",
     "text": [
      "lABAS, SIANDIEN YRA TRECIADIENIS. \n"
     ]
    }
   ],
   "source": [
    "with open(\"pakeitimai.txt\", \"r\") as failas:\n",
    "    eilute = failas.readline()\n",
    "    nauja_eilute = eilute.swapcase()\n",
    "    print(nauja_eilute)"
   ]
  },
  {
   "cell_type": "markdown",
   "metadata": {},
   "source": [
    "### Antra užduotis\n",
    "Sukurkite naują failą \"skaiciai.txt\" ir įrašykite į jį skaičius nuo 1 iki 100, kiekvieną naujoje eilutėje."
   ]
  },
  {
   "cell_type": "code",
   "execution_count": 15,
   "metadata": {},
   "outputs": [],
   "source": [
    "with open('skaiciai.txt', 'w') as failas:\n",
    "    for skaicius in range(1,101):\n",
    "        failas.write(f'{skaicius}\\n')"
   ]
  },
  {
   "cell_type": "markdown",
   "metadata": {},
   "source": [
    "### Trečia užduotis\n",
    "Atidarykite \"tekstas.txt\" failą, pakeiskite failo žymeklį į vidurį failo ir atspausdinkite likusį failo turinį."
   ]
  },
  {
   "cell_type": "code",
   "execution_count": 17,
   "metadata": {},
   "outputs": [
    {
     "name": "stdout",
     "output_type": "stream",
     "text": [
      "ejo menuo po Kaledu\n"
     ]
    }
   ],
   "source": [
    "with open(\"tekstas.txt\", \"r\") as failas:\n",
    "    failas.seek(0, 2)  # Pereikite į failo pabaigą\n",
    "    failo_ilgis = failas.tell()  # Gauti failo ilgį\n",
    "    vidurys = failo_ilgis // 2  # Rasti failo vidurį\n",
    "\n",
    "    failas.seek(vidurys)  # Nustatykite žymeklį ant vidurio\n",
    "    likusi_dalis = failas.read()  # Perskaitykite likusią dalį\n",
    "    print(likusi_dalis)"
   ]
  },
  {
   "cell_type": "markdown",
   "metadata": {},
   "source": [
    "### Ketvirta užduotis\n",
    "Sukurkite failą \"eilutes.txt\" ir įrašykite į jį šias eilutes:\n",
    "\n",
    "'Saulėlydis žėri žemę švelniai.\n",
    "Vakare vėjas šnypščia medžius.\n",
    "Vėjas nerimsta, šnypščia ir švilpia.'\n",
    "\n",
    "Papildykite failą \"eilutes.txt\" nauja eilute, kuri yra jūsų vardas ir pavardė.\n",
    "\n",
    "Atidarykite \"eilutes.txt\" failą, perskaitykite jo turinį ir atspausdinkite visas eilutes, kuriose yra žodis \"vėjas\"."
   ]
  },
  {
   "cell_type": "code",
   "execution_count": 1,
   "metadata": {},
   "outputs": [],
   "source": [
    "with open(\"eilutes.txt\", \"a\") as failas:\n",
    "    failas.write(\"\\nLukas Jonaitis.\\n\")"
   ]
  }
 ],
 "metadata": {
  "kernelspec": {
   "display_name": "venv",
   "language": "python",
   "name": "python3"
  },
  "language_info": {
   "codemirror_mode": {
    "name": "ipython",
    "version": 3
   },
   "file_extension": ".py",
   "mimetype": "text/x-python",
   "name": "python",
   "nbconvert_exporter": "python",
   "pygments_lexer": "ipython3",
   "version": "3.11.7"
  }
 },
 "nbformat": 4,
 "nbformat_minor": 2
}
