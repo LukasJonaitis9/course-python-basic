{
 "cells": [
  {
   "cell_type": "code",
   "execution_count": 25,
   "metadata": {},
   "outputs": [
    {
     "name": "stdout",
     "output_type": "stream",
     "text": [
      "Kazys Jonaitis\n",
      "True\n"
     ]
    }
   ],
   "source": [
    "class Studentas: \n",
    "\n",
    "    def __init__(self, vardas, pavarde, amzius):\n",
    "        self.vardas = vardas\n",
    "        self.pavarde = pavarde \n",
    "        self.amzius = amzius\n",
    "\n",
    "    @property\n",
    "    def pilnas_vardas(self):\n",
    "        return f'{self.vardas} {self.pavarde}'\n",
    "    \n",
    "    @staticmethod\n",
    "    def ar_pilnametis(amzius):\n",
    "        return amzius >= 18\n",
    "\n",
    "    @classmethod\n",
    "    def sukurti_studenta(cls, vardas: str, pavarde: str, amzius: int):\n",
    "        return cls(vardas, pavarde, amzius)\n",
    "\n",
    "studentas1 = Studentas.sukurti_studenta('Jonas', 'Kazlauskas', 18)\n",
    "studentas2 = Studentas.sukurti_studenta('Kazys', 'Jonaitis', 19)\n",
    "\n",
    "print(studentas2.pilnas_vardas)\n",
    "print(Studentas.ar_pilnametis(studentas2.amzius))\n",
    "\n",
    "\n",
    "\n"
   ]
  },
  {
   "cell_type": "markdown",
   "metadata": {},
   "source": [
    "### Antra užduotis\n",
    "Parašykite dekoratorių, kuris:\n",
    "\n",
    "visus dekoruotos funkcijos tekstinius argus ir kwargus paverčia didžiosiomis raidėmis.\n",
    "visus funkcijos teksinius rezultatus paverčia didžiosiomis raidėmis."
   ]
  },
  {
   "cell_type": "code",
   "execution_count": 26,
   "metadata": {},
   "outputs": [
    {
     "name": "stdout",
     "output_type": "stream",
     "text": [
      "Making Hello World lowercase\n",
      "HELLO WORLD\n",
      "Making veikia! lowercase\n",
      "VEIKIA!\n"
     ]
    }
   ],
   "source": [
    "from functools import wraps\n",
    "\n",
    "def padidint(func):\n",
    "    @wraps(func)\n",
    "    def wrapper(*args, **kwargs):\n",
    "        for arg in args:\n",
    "            if type(arg) == str:\n",
    "                arg = arg.upper()\n",
    "        for kwarg in kwargs:\n",
    "            if type(kwarg) == str:\n",
    "                kwargs[kwarg] = kwargs[kwarg].upper()\n",
    "        result = func(*args, **kwargs)\n",
    "        if type(result) == str:\n",
    "            result = result.upper()\n",
    "        return result\n",
    "    return wrapper\n",
    "@padidint\n",
    "def sumazinti(string = 'Hello World'):\n",
    "    print(f'Making {string} lowercase')\n",
    "    return string.lower()\n",
    "print(sumazinti())\n",
    "print(sumazinti('veikia!'))"
   ]
  }
 ],
 "metadata": {
  "kernelspec": {
   "display_name": "venv",
   "language": "python",
   "name": "python3"
  },
  "language_info": {
   "codemirror_mode": {
    "name": "ipython",
    "version": 3
   },
   "file_extension": ".py",
   "mimetype": "text/x-python",
   "name": "python",
   "nbconvert_exporter": "python",
   "pygments_lexer": "ipython3",
   "version": "3.11.7"
  }
 },
 "nbformat": 4,
 "nbformat_minor": 2
}
